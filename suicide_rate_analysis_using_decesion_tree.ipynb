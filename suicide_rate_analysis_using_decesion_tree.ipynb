{
  "cells": [
    {
      "cell_type": "markdown",
      "metadata": {
        "id": "view-in-github",
        "colab_type": "text"
      },
      "source": [
        "<a href=\"https://colab.research.google.com/github/ja1708/machine-learning/blob/main/suicide_rate_analysis_using_decesion_tree.ipynb\" target=\"_parent\"><img src=\"https://colab.research.google.com/assets/colab-badge.svg\" alt=\"Open In Colab\"/></a>"
      ]
    },
    {
      "cell_type": "markdown",
      "metadata": {
        "_uuid": "efd0e467cde64b5282eb15bc5334fb410d69ab8d",
        "id": "4WgmsT_4HhP1"
      },
      "source": [
        "# Sucide rate analysis using Decesion tree"
      ]
    },
    {
      "cell_type": "code",
      "execution_count": null,
      "metadata": {
        "_cell_guid": "b1076dfc-b9ad-4769-8c92-a6c4dae69d19",
        "_uuid": "8f2839f25d086af736a60e9eeb907d3b93b6e0e5",
        "id": "AkkjIvhdHhP2",
        "outputId": "973371f8-0b9f-4f13-c7c4-d2fecd16d01d"
      },
      "outputs": [
        {
          "name": "stdout",
          "output_type": "stream",
          "text": [
            "['master.csv']\n"
          ]
        }
      ],
      "source": [
        "# This Python 3 environment comes with many helpful analytics libraries installed\n",
        "# It is defined by the kaggle/python docker image: https://github.com/kaggle/docker-python\n",
        "# For example, here's several helpful packages to load in\n",
        "\n",
        "import numpy as np # linear algebra\n",
        "import pandas as pd # data processing, CSV file I/O (e.g. pd.read_csv)\n",
        "from sklearn import tree\n",
        "import pydot\n",
        "from IPython.display import Image\n",
        "from sklearn.externals.six import StringIO\n",
        "# Input data files are available in the \"../input/\" directory.\n",
        "# For example, running this (by clicking run or pressing Shift+Enter) will list the files in the input directory\n",
        "\n",
        "import os\n",
        "print(os.listdir(\"../input\"))\n",
        "\n",
        "\n",
        "# Any results you write to the current directory are saved as output."
      ]
    },
    {
      "cell_type": "code",
      "execution_count": null,
      "metadata": {
        "_uuid": "9b47d18e4fcceb53558cbc874610971db8899735",
        "id": "74BrJhNkHhP3",
        "outputId": "ff7e1124-423e-41ec-ddb6-2e9cba1e0459"
      },
      "outputs": [
        {
          "data": {
            "text/html": [
              "<div>\n",
              "<style scoped>\n",
              "    .dataframe tbody tr th:only-of-type {\n",
              "        vertical-align: middle;\n",
              "    }\n",
              "\n",
              "    .dataframe tbody tr th {\n",
              "        vertical-align: top;\n",
              "    }\n",
              "\n",
              "    .dataframe thead th {\n",
              "        text-align: right;\n",
              "    }\n",
              "</style>\n",
              "<table border=\"1\" class=\"dataframe\">\n",
              "  <thead>\n",
              "    <tr style=\"text-align: right;\">\n",
              "      <th></th>\n",
              "      <th>country</th>\n",
              "      <th>year</th>\n",
              "      <th>sex</th>\n",
              "      <th>age</th>\n",
              "      <th>suicides_no</th>\n",
              "      <th>population</th>\n",
              "      <th>suicides/100k pop</th>\n",
              "      <th>country-year</th>\n",
              "      <th>HDI for year</th>\n",
              "      <th>gdp_for_year ($)</th>\n",
              "      <th>gdp_per_capita ($)</th>\n",
              "      <th>generation</th>\n",
              "    </tr>\n",
              "  </thead>\n",
              "  <tbody>\n",
              "    <tr>\n",
              "      <th>0</th>\n",
              "      <td>Albania</td>\n",
              "      <td>1987</td>\n",
              "      <td>male</td>\n",
              "      <td>15-24 years</td>\n",
              "      <td>21</td>\n",
              "      <td>312900</td>\n",
              "      <td>6.71</td>\n",
              "      <td>Albania1987</td>\n",
              "      <td>NaN</td>\n",
              "      <td>2,156,624,900</td>\n",
              "      <td>796</td>\n",
              "      <td>Generation X</td>\n",
              "    </tr>\n",
              "    <tr>\n",
              "      <th>1</th>\n",
              "      <td>Albania</td>\n",
              "      <td>1987</td>\n",
              "      <td>male</td>\n",
              "      <td>35-54 years</td>\n",
              "      <td>16</td>\n",
              "      <td>308000</td>\n",
              "      <td>5.19</td>\n",
              "      <td>Albania1987</td>\n",
              "      <td>NaN</td>\n",
              "      <td>2,156,624,900</td>\n",
              "      <td>796</td>\n",
              "      <td>Silent</td>\n",
              "    </tr>\n",
              "    <tr>\n",
              "      <th>2</th>\n",
              "      <td>Albania</td>\n",
              "      <td>1987</td>\n",
              "      <td>female</td>\n",
              "      <td>15-24 years</td>\n",
              "      <td>14</td>\n",
              "      <td>289700</td>\n",
              "      <td>4.83</td>\n",
              "      <td>Albania1987</td>\n",
              "      <td>NaN</td>\n",
              "      <td>2,156,624,900</td>\n",
              "      <td>796</td>\n",
              "      <td>Generation X</td>\n",
              "    </tr>\n",
              "    <tr>\n",
              "      <th>3</th>\n",
              "      <td>Albania</td>\n",
              "      <td>1987</td>\n",
              "      <td>male</td>\n",
              "      <td>75+ years</td>\n",
              "      <td>1</td>\n",
              "      <td>21800</td>\n",
              "      <td>4.59</td>\n",
              "      <td>Albania1987</td>\n",
              "      <td>NaN</td>\n",
              "      <td>2,156,624,900</td>\n",
              "      <td>796</td>\n",
              "      <td>G.I. Generation</td>\n",
              "    </tr>\n",
              "    <tr>\n",
              "      <th>4</th>\n",
              "      <td>Albania</td>\n",
              "      <td>1987</td>\n",
              "      <td>male</td>\n",
              "      <td>25-34 years</td>\n",
              "      <td>9</td>\n",
              "      <td>274300</td>\n",
              "      <td>3.28</td>\n",
              "      <td>Albania1987</td>\n",
              "      <td>NaN</td>\n",
              "      <td>2,156,624,900</td>\n",
              "      <td>796</td>\n",
              "      <td>Boomers</td>\n",
              "    </tr>\n",
              "  </tbody>\n",
              "</table>\n",
              "</div>"
            ],
            "text/plain": [
              "   country  year       ...        gdp_per_capita ($)       generation\n",
              "0  Albania  1987       ...                       796     Generation X\n",
              "1  Albania  1987       ...                       796           Silent\n",
              "2  Albania  1987       ...                       796     Generation X\n",
              "3  Albania  1987       ...                       796  G.I. Generation\n",
              "4  Albania  1987       ...                       796          Boomers\n",
              "\n",
              "[5 rows x 12 columns]"
            ]
          },
          "execution_count": 2,
          "metadata": {},
          "output_type": "execute_result"
        }
      ],
      "source": [
        "file_path = '../input/master.csv'\n",
        "df = pd.read_csv(file_path)\n",
        "df.head() # print the first few lines"
      ]
    },
    {
      "cell_type": "code",
      "execution_count": null,
      "metadata": {
        "_cell_guid": "79c7e3d0-c299-4dcb-8224-4455121ee9b0",
        "_uuid": "d629ff2d2480ee46fbb7e2d37f6b5fab8052498a",
        "id": "eqZQql4UHhP3",
        "outputId": "a88f9118-df18-46f5-e1c0-c7c4606e516e"
      },
      "outputs": [
        {
          "data": {
            "text/html": [
              "<div>\n",
              "<style scoped>\n",
              "    .dataframe tbody tr th:only-of-type {\n",
              "        vertical-align: middle;\n",
              "    }\n",
              "\n",
              "    .dataframe tbody tr th {\n",
              "        vertical-align: top;\n",
              "    }\n",
              "\n",
              "    .dataframe thead th {\n",
              "        text-align: right;\n",
              "    }\n",
              "</style>\n",
              "<table border=\"1\" class=\"dataframe\">\n",
              "  <thead>\n",
              "    <tr style=\"text-align: right;\">\n",
              "      <th></th>\n",
              "      <th>year</th>\n",
              "      <th>suicides_no</th>\n",
              "      <th>population</th>\n",
              "      <th>suicides/100k pop</th>\n",
              "      <th>HDI for year</th>\n",
              "      <th>gdp_per_capita ($)</th>\n",
              "    </tr>\n",
              "  </thead>\n",
              "  <tbody>\n",
              "    <tr>\n",
              "      <th>count</th>\n",
              "      <td>27820.000000</td>\n",
              "      <td>27820.000000</td>\n",
              "      <td>2.782000e+04</td>\n",
              "      <td>27820.000000</td>\n",
              "      <td>8364.000000</td>\n",
              "      <td>27820.000000</td>\n",
              "    </tr>\n",
              "    <tr>\n",
              "      <th>mean</th>\n",
              "      <td>2001.258375</td>\n",
              "      <td>242.574407</td>\n",
              "      <td>1.844794e+06</td>\n",
              "      <td>12.816097</td>\n",
              "      <td>0.776601</td>\n",
              "      <td>16866.464414</td>\n",
              "    </tr>\n",
              "    <tr>\n",
              "      <th>std</th>\n",
              "      <td>8.469055</td>\n",
              "      <td>902.047917</td>\n",
              "      <td>3.911779e+06</td>\n",
              "      <td>18.961511</td>\n",
              "      <td>0.093367</td>\n",
              "      <td>18887.576472</td>\n",
              "    </tr>\n",
              "    <tr>\n",
              "      <th>min</th>\n",
              "      <td>1985.000000</td>\n",
              "      <td>0.000000</td>\n",
              "      <td>2.780000e+02</td>\n",
              "      <td>0.000000</td>\n",
              "      <td>0.483000</td>\n",
              "      <td>251.000000</td>\n",
              "    </tr>\n",
              "    <tr>\n",
              "      <th>25%</th>\n",
              "      <td>1995.000000</td>\n",
              "      <td>3.000000</td>\n",
              "      <td>9.749850e+04</td>\n",
              "      <td>0.920000</td>\n",
              "      <td>0.713000</td>\n",
              "      <td>3447.000000</td>\n",
              "    </tr>\n",
              "    <tr>\n",
              "      <th>50%</th>\n",
              "      <td>2002.000000</td>\n",
              "      <td>25.000000</td>\n",
              "      <td>4.301500e+05</td>\n",
              "      <td>5.990000</td>\n",
              "      <td>0.779000</td>\n",
              "      <td>9372.000000</td>\n",
              "    </tr>\n",
              "    <tr>\n",
              "      <th>75%</th>\n",
              "      <td>2008.000000</td>\n",
              "      <td>131.000000</td>\n",
              "      <td>1.486143e+06</td>\n",
              "      <td>16.620000</td>\n",
              "      <td>0.855000</td>\n",
              "      <td>24874.000000</td>\n",
              "    </tr>\n",
              "    <tr>\n",
              "      <th>max</th>\n",
              "      <td>2016.000000</td>\n",
              "      <td>22338.000000</td>\n",
              "      <td>4.380521e+07</td>\n",
              "      <td>224.970000</td>\n",
              "      <td>0.944000</td>\n",
              "      <td>126352.000000</td>\n",
              "    </tr>\n",
              "  </tbody>\n",
              "</table>\n",
              "</div>"
            ],
            "text/plain": [
              "               year         ...          gdp_per_capita ($)\n",
              "count  27820.000000         ...                27820.000000\n",
              "mean    2001.258375         ...                16866.464414\n",
              "std        8.469055         ...                18887.576472\n",
              "min     1985.000000         ...                  251.000000\n",
              "25%     1995.000000         ...                 3447.000000\n",
              "50%     2002.000000         ...                 9372.000000\n",
              "75%     2008.000000         ...                24874.000000\n",
              "max     2016.000000         ...               126352.000000\n",
              "\n",
              "[8 rows x 6 columns]"
            ]
          },
          "execution_count": 3,
          "metadata": {},
          "output_type": "execute_result"
        }
      ],
      "source": [
        "df.describe() # print the statistics of the datasets"
      ]
    },
    {
      "cell_type": "code",
      "execution_count": null,
      "metadata": {
        "_uuid": "cb26572b667fa128c7ceaadc63c288b03b3fa9ed",
        "id": "K8Nkt1VxHhP3",
        "outputId": "e8b722fc-6a94-4f31-dae4-e6751320ecc7"
      },
      "outputs": [
        {
          "data": {
            "text/plain": [
              "Index(['country', 'year', 'sex', 'age', 'suicides_no', 'population',\n",
              "       'suicides/100k pop', 'country-year', 'HDI for year',\n",
              "       ' gdp_for_year ($) ', 'gdp_per_capita ($)', 'generation'],\n",
              "      dtype='object')"
            ]
          },
          "execution_count": 4,
          "metadata": {},
          "output_type": "execute_result"
        }
      ],
      "source": [
        "df.columns # print columns of the datasets"
      ]
    },
    {
      "cell_type": "code",
      "execution_count": null,
      "metadata": {
        "_uuid": "c3928836566da5dc7e75e512eb479554d632fadc",
        "id": "AijVhkxjHhP3",
        "outputId": "990a49b5-613a-44e4-8f16-44891e1729aa"
      },
      "outputs": [
        {
          "name": "stdout",
          "output_type": "stream",
          "text": [
            "   year  population  suicides/100k pop  gdp_per_capita ($)\n",
            "0  1987      312900               6.71                 796\n",
            "1  1987      308000               5.19                 796\n",
            "2  1987      289700               4.83                 796\n",
            "3  1987       21800               4.59                 796\n",
            "4  1987      274300               3.28                 796\n",
            "0    21\n",
            "1    16\n",
            "2    14\n",
            "3     1\n",
            "4     9\n",
            "Name: suicides_no, dtype: int64\n"
          ]
        }
      ],
      "source": [
        "# select columns from the dataset and prepare a new datasets\n",
        "col = ['year', 'population',\n",
        "       'suicides/100k pop',\n",
        "        'gdp_per_capita ($)']\n",
        "df1 = df[col]\n",
        "print(df1.head())\n",
        "y = df['suicides_no']\n",
        "print(y.head())"
      ]
    },
    {
      "cell_type": "code",
      "execution_count": null,
      "metadata": {
        "_uuid": "6428b9160d759fedd6a3d411639fe55037aec2ee",
        "id": "rKCj6kjdHhP4"
      },
      "outputs": [],
      "source": []
    },
    {
      "cell_type": "code",
      "execution_count": null,
      "metadata": {
        "_uuid": "bc428707a5129f2fed53cbd023f13bfe450bef7a",
        "id": "gJr8Gd0ZHhP4"
      },
      "outputs": [],
      "source": [
        "from sklearn.tree import DecisionTreeRegressor\n",
        "from sklearn.model_selection import train_test_split"
      ]
    },
    {
      "cell_type": "code",
      "execution_count": null,
      "metadata": {
        "_uuid": "6877766d816942e909e5621978c029e5ae9bfee2",
        "scrolled": true,
        "id": "QRxNNw5PHhP4",
        "outputId": "b323435a-5677-43d5-8e51-07e10a70af6a"
      },
      "outputs": [
        {
          "name": "stdout",
          "output_type": "stream",
          "text": [
            "(22256, 4) (22256,)\n",
            "(5564,) (5564, 4)\n",
            "       year         ...          gdp_per_capita ($)\n",
            "22350  2011         ...                       13204\n",
            "3467   1987         ...                       16165\n",
            "7184   1997         ...                        6314\n",
            "3035   2001         ...                       12348\n",
            "20539  2010         ...                       22994\n",
            "\n",
            "[5 rows x 4 columns]\n"
          ]
        }
      ],
      "source": [
        "# devide the dataset into the\n",
        "train_x, test_x, train_y, test_y = train_test_split(df1,y, test_size = 0.2)\n",
        "print(train_x.shape, train_y.shape)\n",
        "print(test_y.shape, test_x.shape)\n",
        "print(train_x.head())"
      ]
    },
    {
      "cell_type": "code",
      "execution_count": null,
      "metadata": {
        "_uuid": "bd635ff9fb1bd5aef33646e266cf25381ff5f878",
        "id": "Nb8WjqQCHhP4",
        "outputId": "ba1bbcf5-adab-47a9-8e6a-0aacb7da523c"
      },
      "outputs": [
        {
          "data": {
            "text/html": [
              "<div>\n",
              "<style scoped>\n",
              "    .dataframe tbody tr th:only-of-type {\n",
              "        vertical-align: middle;\n",
              "    }\n",
              "\n",
              "    .dataframe tbody tr th {\n",
              "        vertical-align: top;\n",
              "    }\n",
              "\n",
              "    .dataframe thead th {\n",
              "        text-align: right;\n",
              "    }\n",
              "</style>\n",
              "<table border=\"1\" class=\"dataframe\">\n",
              "  <thead>\n",
              "    <tr style=\"text-align: right;\">\n",
              "      <th></th>\n",
              "      <th>year</th>\n",
              "      <th>population</th>\n",
              "      <th>suicides/100k pop</th>\n",
              "      <th>gdp_per_capita ($)</th>\n",
              "    </tr>\n",
              "  </thead>\n",
              "  <tbody>\n",
              "    <tr>\n",
              "      <th>22350</th>\n",
              "      <td>2011</td>\n",
              "      <td>5026</td>\n",
              "      <td>0.00</td>\n",
              "      <td>13204</td>\n",
              "    </tr>\n",
              "    <tr>\n",
              "      <th>3467</th>\n",
              "      <td>1987</td>\n",
              "      <td>789200</td>\n",
              "      <td>34.59</td>\n",
              "      <td>16165</td>\n",
              "    </tr>\n",
              "    <tr>\n",
              "      <th>7184</th>\n",
              "      <td>1997</td>\n",
              "      <td>340800</td>\n",
              "      <td>17.90</td>\n",
              "      <td>6314</td>\n",
              "    </tr>\n",
              "    <tr>\n",
              "      <th>3035</th>\n",
              "      <td>2001</td>\n",
              "      <td>21392</td>\n",
              "      <td>0.00</td>\n",
              "      <td>12348</td>\n",
              "    </tr>\n",
              "    <tr>\n",
              "      <th>20539</th>\n",
              "      <td>2010</td>\n",
              "      <td>3137470</td>\n",
              "      <td>11.86</td>\n",
              "      <td>22994</td>\n",
              "    </tr>\n",
              "  </tbody>\n",
              "</table>\n",
              "</div>"
            ],
            "text/plain": [
              "       year         ...          gdp_per_capita ($)\n",
              "22350  2011         ...                       13204\n",
              "3467   1987         ...                       16165\n",
              "7184   1997         ...                        6314\n",
              "3035   2001         ...                       12348\n",
              "20539  2010         ...                       22994\n",
              "\n",
              "[5 rows x 4 columns]"
            ]
          },
          "execution_count": 8,
          "metadata": {},
          "output_type": "execute_result"
        }
      ],
      "source": [
        "train_x.head()"
      ]
    },
    {
      "cell_type": "code",
      "execution_count": null,
      "metadata": {
        "_uuid": "21fea71951d2c69fc72cfaf6f1c94c5a9a5e4c31",
        "id": "FutzsioZHhP4",
        "outputId": "85d0d1f2-c01c-4631-f328-dea5baf09fb9"
      },
      "outputs": [
        {
          "data": {
            "text/plain": [
              "DecisionTreeRegressor(criterion='mse', max_depth=None, max_features=None,\n",
              "           max_leaf_nodes=None, min_impurity_decrease=0.0,\n",
              "           min_impurity_split=None, min_samples_leaf=1,\n",
              "           min_samples_split=2, min_weight_fraction_leaf=0.0,\n",
              "           presort=False, random_state=0, splitter='best')"
            ]
          },
          "execution_count": 9,
          "metadata": {},
          "output_type": "execute_result"
        }
      ],
      "source": [
        "model = DecisionTreeRegressor(random_state =0)\n",
        "model.fit(train_x,train_y)"
      ]
    },
    {
      "cell_type": "code",
      "execution_count": null,
      "metadata": {
        "_uuid": "19087528cf34679545979fee2da55f237739a8ad",
        "id": "cboJBpYkHhP4"
      },
      "outputs": [],
      "source": [
        "predict = model.predict(test_x)\n"
      ]
    },
    {
      "cell_type": "code",
      "execution_count": null,
      "metadata": {
        "_uuid": "b8e7d681ef38a23ed1c18d02c7046ccccc82dd4c",
        "id": "MaSpLoS3HhP5",
        "outputId": "f29e2e6d-f498-4a52-8e3b-9f3e4e83383f"
      },
      "outputs": [
        {
          "data": {
            "text/plain": [
              "<matplotlib.legend.Legend at 0x7f3c99084080>"
            ]
          },
          "execution_count": 11,
          "metadata": {},
          "output_type": "execute_result"
        },
        {
          "data": {
            "text/plain": [
              "<Figure size 432x288 with 0 Axes>"
            ]
          },
          "metadata": {},
          "output_type": "display_data"
        },
        {
          "data": {
            "image/png": "[encoded data removed]",
            "text/plain": [
              "<Figure size 1440x720 with 1 Axes>"
            ]
          },
          "metadata": {},
          "output_type": "display_data"
        }
      ],
      "source": [
        "import matplotlib.pyplot as plt\n",
        "plt.figure(1)\n",
        "plt.figure(figsize = (20,10))\n",
        "plt.plot(np.arange(len(predict)),predict, 'o', label = \"predicted values\")\n",
        "plt.title('predicted and actual suicide rate')\n",
        "plt.xlabel(\"number of samples \")\n",
        "#plt.figure(2)\n",
        "plt.plot(np.arange(len(predict)),test_y.values, label = \"actual values\")\n",
        "plt.legend(loc = 'best')\n",
        "#plt.title('actual suicide rate')"
      ]
    },
    {
      "cell_type": "code",
      "execution_count": null,
      "metadata": {
        "_uuid": "2821cd64e9b94f6a394d2b81ae812d94229315b4",
        "id": "Eko5cBL6HhP5",
        "outputId": "9367e2c6-f237-4597-ea4d-d17f0529dab8"
      },
      "outputs": [
        {
          "data": {
            "text/plain": [
              "0.49712437095614664"
            ]
          },
          "execution_count": 12,
          "metadata": {},
          "output_type": "execute_result"
        }
      ],
      "source": [
        "# accuracy score\n",
        "from sklearn.metrics import accuracy_score\n",
        "accuracy_score(test_y, predict)"
      ]
    },
    {
      "cell_type": "code",
      "execution_count": null,
      "metadata": {
        "_uuid": "50213d044a873abc232cfd6ecb90d761ca45b945",
        "id": "FBVSW0QEHhP5",
        "outputId": "a9836b59-0306-4597-caa0-3e38ad5c3872"
      },
      "outputs": [
        {
          "data": {
            "text/plain": [
              "10.191229331416247"
            ]
          },
          "execution_count": 13,
          "metadata": {},
          "output_type": "execute_result"
        }
      ],
      "source": [
        "# mean absolute error\n",
        "from sklearn.metrics import mean_absolute_error\n",
        "mean_absolute_error(test_y, predict)"
      ]
    },
    {
      "cell_type": "code",
      "execution_count": null,
      "metadata": {
        "_uuid": "ef5ed3bff5943bfe52af4cda951e352f08bf874b",
        "id": "fHFK1nyoHhP5"
      },
      "outputs": [],
      "source": [
        "# mean absolute percentage error\n",
        "def mape(y_true, y_pred):\n",
        "    return np.mean(np.abs((y_true - y_pred) / y_true)) * 100"
      ]
    },
    {
      "cell_type": "code",
      "execution_count": null,
      "metadata": {
        "_uuid": "c3c14594df69110ee740d3ee3adf38d039b74f68",
        "id": "ZWLrfZUWHhP5",
        "outputId": "a7d53684-54b8-410d-940a-d445a12021e1"
      },
      "outputs": [
        {
          "data": {
            "text/plain": [
              "2.9936887061796837"
            ]
          },
          "execution_count": 15,
          "metadata": {},
          "output_type": "execute_result"
        }
      ],
      "source": [
        "mape(test_y, predict)"
      ]
    },
    {
      "cell_type": "code",
      "execution_count": null,
      "metadata": {
        "_uuid": "0335b9a6c6127446248ff0664351a6a758238dd7",
        "id": "jYkfcXRSHhP5"
      },
      "outputs": [],
      "source": []
    },
    {
      "cell_type": "code",
      "execution_count": null,
      "metadata": {
        "_uuid": "1a3b44aa67c5e2c9d1ac7bd9ffa72e90c296f88d",
        "id": "vC8tiwemHhP5"
      },
      "outputs": [],
      "source": []
    }
  ],
  "metadata": {
    "kernelspec": {
      "display_name": "Python 3",
      "language": "python",
      "name": "python3"
    },
    "language_info": {
      "codemirror_mode": {
        "name": "ipython",
        "version": 3
      },
      "file_extension": ".py",
      "mimetype": "text/x-python",
      "name": "python",
      "nbconvert_exporter": "python",
      "pygments_lexer": "ipython3",
      "version": "3.6.6"
    },
    "colab": {
      "provenance": [],
      "include_colab_link": true
    }
  },
  "nbformat": 4,
  "nbformat_minor": 0
}