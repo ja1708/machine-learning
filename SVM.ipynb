{
  "metadata": {
    "kernelspec": {
      "display_name": "Python 3",
      "language": "python",
      "name": "python3"
    },
    "language_info": {
      "name": "python",
      "version": "3.6.4",
      "mimetype": "text/x-python",
      "codemirror_mode": {
        "name": "ipython",
        "version": 3
      },
      "pygments_lexer": "ipython3",
      "nbconvert_exporter": "python",
      "file_extension": ".py"
    },
    "colab": {
      "provenance": [],
      "include_colab_link": true
    }
  },
  "nbformat_minor": 0,
  "nbformat": 4,
  "cells": [
    {
      "cell_type": "markdown",
      "metadata": {
        "id": "view-in-github",
        "colab_type": "text"
      },
      "source": [
        "<a href=\"https://colab.research.google.com/github/RA2112704010018SKY/Machine_Learning/blob/main/SVM.ipynb\" target=\"_parent\"><img src=\"https://colab.research.google.com/assets/colab-badge.svg\" alt=\"Open In Colab\"/></a>"
      ]
    },
    {
      "cell_type": "code",
      "source": [
        "\n",
        "\n",
        "import numpy as np # linear algebra\n",
        "import pandas as pd # data processing, CSV file I/O (e.g. pd.read_csv)\n",
        "import plotly.plotly as py\n",
        "from plotly.offline import init_notebook_mode,iplot\n",
        "init_notebook_mode(connected=True)\n",
        "import plotly.graph_objs as go\n",
        "import warnings\n",
        "warnings.filterwarnings(\"ignore\")\n",
        "import os\n",
        "print(os.listdir(\"../input\"))\n"
      ],
      "metadata": {
        "_uuid": "8f2839f25d086af736a60e9eeb907d3b93b6e0e5",
        "_cell_guid": "b1076dfc-b9ad-4769-8c92-a6c4dae69d19",
        "_kg_hide-input": true,
        "_kg_hide-output": true,
        "trusted": true,
        "id": "pe-9mlFTJlYq"
      },
      "execution_count": null,
      "outputs": []
    },
    {
      "cell_type": "code",
      "source": [
        "data=pd.read_csv(\"../input/train.csv\")"
      ],
      "metadata": {
        "_cell_guid": "79c7e3d0-c299-4dcb-8224-4455121ee9b0",
        "_uuid": "d629ff2d2480ee46fbb7e2d37f6b5fab8052498a",
        "_kg_hide-input": true,
        "trusted": true,
        "id": "gFN1wkIPJlYq"
      },
      "execution_count": null,
      "outputs": []
    },
    {
      "cell_type": "code",
      "source": [
        "data.info()"
      ],
      "metadata": {
        "_kg_hide-input": true,
        "trusted": true,
        "id": "5D0Alc9aJlYq"
      },
      "execution_count": null,
      "outputs": []
    },
    {
      "cell_type": "markdown",
      "source": [
        "Dataset as 21 features and 2000 entries.\n",
        "The meanings of the features are given below."
      ],
      "metadata": {
        "id": "85sYuJnjJlYr"
      }
    },
    {
      "cell_type": "markdown",
      "source": [
        "**battery_power: ** Total energy a battery can store in one time measured in mAh\n",
        "\n",
        "**blue:** Has bluetooth or not\n",
        "\n",
        "**clock_speed:** speed at which microprocessor executes instructions\n",
        "\n",
        "**dual_sim:** Has dual sim support or not\n",
        "\n",
        "**fc:** Front  Camera mega pixels\n",
        "\n",
        "**four_g:** Has 4G or not\n",
        "\n",
        "**int_memory:** Internal Memory in Gigabytes\n",
        "\n",
        "**m_dep:** Mobile Depth in cm\n",
        "\n",
        "**mobile_wt:** Weight of mobile phone\n",
        "\n",
        "**n_cores:** Number of cores of processor\n",
        "\n",
        "**pc:** Primary Camera mega pixels\n",
        "\n",
        "**px_height:** Pixel Resolution Height\n",
        "\n",
        "**px_width:** Pixel Resolution Width\n",
        "\n",
        "**ram:** Random Access Memory in Mega Bytes\n",
        "\n",
        "**sc_h:** Screen Height of mobile in cm\n",
        "\n",
        "**sc_w:** Screen Width of mobile in cm\n",
        "\n",
        "**talk_time:** longest time that a single battery charge will last when you are\n",
        "\n",
        "**three_g:** Has 3G or not\n",
        "\n",
        "**touch_screen:** Has touch screen or not\n",
        "\n",
        "**wifi:** Has wifi or not\n",
        "\n",
        "**price_range:** This is the target variable with value of 0(low cost), 1(medium cost), 2(high cost) and 3(very high cost)."
      ],
      "metadata": {
        "id": "lSr83O9zJlYr"
      }
    },
    {
      "cell_type": "markdown",
      "source": [
        "In the following table, first 10 entries are shown."
      ],
      "metadata": {
        "id": "M-j1a2EuJlYr"
      }
    },
    {
      "cell_type": "code",
      "source": [
        "from plotly.tools import FigureFactory as ff\n",
        "datahead=data.head(10)\n",
        "datahead=datahead.rename(index=str, columns={\"battery_power\": \"Battery Power\", \"blue\": \"Bluetooth\",\"clock_speed\":\"Clock Speed\",\"dual_sim\":\"Dual Sim\",\"fc\":\"Front Camera MP\",\n",
        "                                   \"four_g\":\"4G\",\"int_memory\":\"Internal Memory(GB)\",\"m_dep\":\"Mobile Depth(CM)\",\"mobile_wt\":\"Weight\",\"n_cores\":\"Number of cores\",\"pc\":\"Primary Camera MP\"\n",
        "                                   ,\"px_height\":\"Pixel R. Height\",\"px_width\":\"Pixel R. Width\",\"ram\":\"RAM(MB)\",\"sc_h\":\"Screen Height(cm)\",\"sc_w\":\"Screen Width\",\n",
        "                                   \"talk_time\":\"Longest Battery Charge\",\"three_g\":\"3G\",\"touch_screen\":\"Touch Screen\",\"wifi\":\"WIFI\",\"price_range\":\"Price Range\"})\n",
        "colorscale = \"Greens\"\n",
        "table = ff.create_table(datahead,colorscale=colorscale,height_constant=40)\n",
        "table.layout.width=2500\n",
        "for i in range(len(table.layout.annotations)):\n",
        "    table.layout.annotations[i].font.size = 8\n",
        "iplot(table)"
      ],
      "metadata": {
        "_kg_hide-input": true,
        "trusted": true,
        "id": "OC9SZZWdJlYr"
      },
      "execution_count": null,
      "outputs": []
    },
    {
      "cell_type": "markdown",
      "source": [
        "Now let's check if there are any missing values in the dataset."
      ],
      "metadata": {
        "id": "OHnF3GccJlYr"
      }
    },
    {
      "cell_type": "code",
      "source": [
        "import missingno as msno\n",
        "import matplotlib.pyplot as plt\n",
        "msno.bar(data)\n",
        "plt.show()"
      ],
      "metadata": {
        "_kg_hide-input": true,
        "trusted": true,
        "id": "wGptW-a4JlYr"
      },
      "execution_count": null,
      "outputs": []
    },
    {
      "cell_type": "markdown",
      "source": [
        "\n",
        "#### CORRELATION BETWEEN FEATURES"
      ],
      "metadata": {
        "id": "0q0CfA4nJlYr"
      }
    },
    {
      "cell_type": "markdown",
      "source": [
        "Following heatmap shows correlation values between features."
      ],
      "metadata": {
        "id": "5p2TTQVSJlYr"
      }
    },
    {
      "cell_type": "code",
      "source": [
        "import seaborn as sns\n",
        "import matplotlib.pyplot as plt\n",
        "corr=data.corr()\n",
        "fig = plt.figure(figsize=(15,12))\n",
        "r = sns.heatmap(corr, cmap='Purples')\n",
        "r.set_title(\"Correlation \")"
      ],
      "metadata": {
        "_kg_hide-input": true,
        "trusted": true,
        "id": "1LKu_NG7JlYr"
      },
      "execution_count": null,
      "outputs": []
    },
    {
      "cell_type": "markdown",
      "source": [
        "Now lets see correlation values price range and other features."
      ],
      "metadata": {
        "id": "Fy1LZw-kJlYs"
      }
    },
    {
      "cell_type": "code",
      "source": [
        "#price range correlation\n",
        "corr.sort_values(by=[\"price_range\"],ascending=False).iloc[0].sort_values(ascending=False)"
      ],
      "metadata": {
        "trusted": true,
        "id": "vsv4j5SuJlYs"
      },
      "execution_count": null,
      "outputs": []
    },
    {
      "cell_type": "markdown",
      "source": [
        "Price range and RAM have about 0.91 correlation. Because of that I compared ram and other features with price range with Altair, Seaborn and Plotly libraries."
      ],
      "metadata": {
        "id": "OJmQj9JjJlYs"
      }
    },
    {
      "cell_type": "markdown",
      "source": [
        "<a id=\"3\"></a> <br>\n",
        "### RAM AND OTHER FEATURES COMPRASION"
      ],
      "metadata": {
        "id": "4ZjLwygnJlYs"
      }
    },
    {
      "cell_type": "code",
      "source": [
        "import altair as alt\n",
        "from  altair.vega import v3\n",
        "import json\n",
        "alt.renderers.enable('notebook')\n",
        "vega_url = 'https://cdn.jsdelivr.net/npm/vega@' + v3.SCHEMA_VERSION\n",
        "vega_lib_url = 'https://cdn.jsdelivr.net/npm/vega-lib'\n",
        "vega_lite_url = 'https://cdn.jsdelivr.net/npm/vega-lite@' + alt.SCHEMA_VERSION\n",
        "vega_embed_url = 'https://cdn.jsdelivr.net/npm/vega-embed@3'\n",
        "noext = \"?noext\"\n",
        "\n",
        "paths = {\n",
        "    'vega': vega_url + noext,\n",
        "    'vega-lib': vega_lib_url + noext,\n",
        "    'vega-lite': vega_lite_url + noext,\n",
        "    'vega-embed': vega_embed_url + noext\n",
        "}\n",
        "\n",
        "workaround = \"\"\"\n",
        "requirejs.config({{\n",
        "    baseUrl: 'https://cdn.jsdelivr.net/npm/',\n",
        "    paths: {}\n",
        "}});\n",
        "\"\"\"\n",
        "\n",
        "def add_autoincrement(render_func):\n",
        "    # Keep track of unique <div/> IDs\n",
        "    cache = {}\n",
        "    def wrapped(chart, id=\"vega-chart\", autoincrement=True):\n",
        "        if autoincrement:\n",
        "            if id in cache:\n",
        "                counter = 1 + cache[id]\n",
        "                cache[id] = counter\n",
        "            else:\n",
        "                cache[id] = 0\n",
        "            actual_id = id if cache[id] == 0 else id + '-' + str(cache[id])\n",
        "        else:\n",
        "            if id not in cache:\n",
        "                cache[id] = 0\n",
        "            actual_id = id\n",
        "        return render_func(chart, id=actual_id)\n",
        "    # Cache will stay outside and\n",
        "    return wrapped\n",
        "\n",
        "@add_autoincrement\n",
        "def render(chart, id=\"vega-chart\"):\n",
        "    chart_str = \"\"\"\n",
        "    <div id=\"{id}\"></div><script>\n",
        "    require([\"vega-embed\"], function(vg_embed) {{\n",
        "        const spec = {chart};\n",
        "        vg_embed(\"#{id}\", spec, {{defaultStyle: true}}).catch(console.warn);\n",
        "        console.log(\"anything?\");\n",
        "    }});\n",
        "    console.log(\"really...anything?\");\n",
        "    </script>\n",
        "    \"\"\"\n",
        "    return HTML(\n",
        "        chart_str.format(\n",
        "            id=id,\n",
        "            chart=json.dumps(chart) if isinstance(chart, dict) else chart.to_json(indent=None)\n",
        "        )\n",
        "    )\n",
        "\n",
        "HTML(\"\".join((\n",
        "    \"<script>\",\n",
        "    workaround.format(json.dumps(paths)),\n",
        "    \"</script>\",\n",
        "    \"This code block sets up embedded rendering in HTML output and<br/>\",\n",
        "    \"provides the function `render(chart, id='vega-chart')` for use below.\"\n",
        ")))"
      ],
      "metadata": {
        "_kg_hide-input": true,
        "_kg_hide-output": true,
        "trusted": true,
        "id": "L3WY64lIJlYs"
      },
      "execution_count": null,
      "outputs": []
    },
    {
      "cell_type": "markdown",
      "source": [
        "<a id=\"4\"></a> <br>\n",
        "#### 1- PRICE RANGE AND RAM"
      ],
      "metadata": {
        "id": "Wx84bh1vJlYs"
      }
    },
    {
      "cell_type": "code",
      "source": [
        "chart=alt.Chart(data).mark_bar().encode(\n",
        "    alt.X('ram', bin=True),\n",
        "    y='count(*):Q',\n",
        "    color='price_range:N',\n",
        ").facet(column='price_range:N')\n",
        "render(chart)"
      ],
      "metadata": {
        "_kg_hide-input": true,
        "trusted": true,
        "id": "STeXyd_hJlYs"
      },
      "execution_count": null,
      "outputs": []
    },
    {
      "cell_type": "markdown",
      "source": [
        "<a id=\"5\"></a> <br>\n",
        "#### 2- BATTERY POWER- RAM AND PRICE RANGE"
      ],
      "metadata": {
        "id": "duxBujxDJlYs"
      }
    },
    {
      "cell_type": "markdown",
      "source": [
        "Following scatter plot shows battery power and ram values according to price range."
      ],
      "metadata": {
        "id": "6GqOhComJlYs"
      }
    },
    {
      "cell_type": "code",
      "source": [
        "chart=alt.Chart(data).mark_circle(size=20).encode(\n",
        "    x='ram',\n",
        "    y='battery_power',\n",
        "    color='price_range:N',\n",
        "    tooltip=[\"price_range\", \"ram\",'battery_power']\n",
        ").interactive().properties(\n",
        "    width=400, height=300\n",
        ")\n",
        "render(chart)"
      ],
      "metadata": {
        "_kg_hide-input": true,
        "trusted": true,
        "id": "I35uG3G6JlYs"
      },
      "execution_count": null,
      "outputs": []
    },
    {
      "cell_type": "markdown",
      "source": [
        "<a id=\"6\"></a> <br>\n",
        "#### 3- INTERNAL MEMORY IN GIGABYTE - RAM AND PRICE RANGE"
      ],
      "metadata": {
        "id": "-GAe_xFOJlYs"
      }
    },
    {
      "cell_type": "markdown",
      "source": [
        "Following plot shows internal memory and ram values according to price range."
      ],
      "metadata": {
        "id": "bEdlEqxOJlYs"
      }
    },
    {
      "cell_type": "code",
      "source": [
        "nearest = alt.selection(type='single', nearest=True, on='mouseover',\n",
        "                        fields=['ram'], empty='none')\n",
        "\n",
        "line = alt.Chart(data).mark_line(interpolate='basis').encode(\n",
        "    x='ram:Q',\n",
        "    y='int_memory:Q',\n",
        "    color='price_range:N'\n",
        ")\n",
        "\n",
        "selectors = alt.Chart(data).mark_point().encode(\n",
        "    x='ram:Q',\n",
        "    opacity=alt.value(0),\n",
        ").add_selection(\n",
        "    nearest\n",
        ")\n",
        "\n",
        "\n",
        "points = line.mark_point().encode(\n",
        "    opacity=alt.condition(nearest, alt.value(1), alt.value(0))\n",
        ")\n",
        "\n",
        "\n",
        "text = line.mark_text(align='left', dx=5, dy=-5).encode(\n",
        "    text=alt.condition(nearest, 'int_memory:Q', alt.value(' '))\n",
        ")\n",
        "\n",
        "\n",
        "rules = alt.Chart(data).mark_rule(color='black').encode(\n",
        "    x='ram:Q',\n",
        ").transform_filter(\n",
        "    nearest\n",
        ")\n",
        "\n",
        "\n",
        "alt.layer(\n",
        "    line, selectors, points, rules, text\n",
        ").properties(\n",
        "    width=400, height=300\n",
        ")\n",
        "\n",
        "render(line+selectors+points+text+rules)"
      ],
      "metadata": {
        "_kg_hide-input": true,
        "trusted": true,
        "id": "3JecCW7HJlYs"
      },
      "execution_count": null,
      "outputs": []
    },
    {
      "cell_type": "markdown",
      "source": [
        "<a id=\"7\"></a> <br>\n",
        "#### 4- TOUCH SCREEN-RAM AND PRICE RANGE"
      ],
      "metadata": {
        "id": "Yh_b5QWYJlYt"
      }
    },
    {
      "cell_type": "markdown",
      "source": [
        "Following scatter stripplot shows touch screen or not and ram values according to price range.\n",
        "\n",
        "0= not touch screen,\n",
        "1= has touch screen"
      ],
      "metadata": {
        "id": "4pydrf3hJlYt"
      }
    },
    {
      "cell_type": "code",
      "source": [
        "f, ax = plt.subplots()\n",
        "sns.despine(bottom=True, left=True)\n",
        "\n",
        "# Show each observation with a scatterplot\n",
        "sns.stripplot(x=\"touch_screen\", y=\"ram\", hue=\"price_range\",\n",
        "              data=data, dodge=True, jitter=True,\n",
        "              alpha=.25, zorder=1)\n",
        "\n",
        "# Show the conditional means\n",
        "\n",
        "# Improve the legend\n",
        "handles, labels = ax.get_legend_handles_labels()\n",
        "ax.legend( title=\"Price Range\",\n",
        "          handletextpad=0, columnspacing=1,\n",
        "          loc=\"best\", ncol=2, frameon=True)"
      ],
      "metadata": {
        "_kg_hide-input": true,
        "trusted": true,
        "id": "xqBVA-dqJlYt"
      },
      "execution_count": null,
      "outputs": []
    },
    {
      "cell_type": "markdown",
      "source": [
        "<a id=\"8\"></a> <br>\n",
        "#### 5- 3G-RAM and Price Range"
      ],
      "metadata": {
        "id": "t-4dRM0hJlYt"
      }
    },
    {
      "cell_type": "markdown",
      "source": [
        "Following boxplots show 3G or not and ram values according to price range.\n",
        "\n",
        "0= not 3G,\n",
        "1= has 3G"
      ],
      "metadata": {
        "id": "TZyZRKiIJlYt"
      }
    },
    {
      "cell_type": "code",
      "source": [
        "zero=data[data.price_range==0]\n",
        "one=data[data.price_range==1]\n",
        "two=data[data.price_range==2]\n",
        "three=data[data.price_range==3]\n",
        "\n",
        "trace0 = go.Box(\n",
        "    y=zero.ram.values,\n",
        "    x=zero.three_g.values,\n",
        "    name='0',\n",
        "    marker=dict(\n",
        "        color='#3D9970'\n",
        "    )\n",
        ")\n",
        "trace1 = go.Box(\n",
        "    y=one.ram.values,\n",
        "    x=one.three_g.values,\n",
        "    name='1',\n",
        "    marker=dict(\n",
        "        color='#FF4136'\n",
        "    )\n",
        ")\n",
        "trace2 = go.Box(\n",
        "    y=two.ram.values,\n",
        "    x=two.three_g.values,\n",
        "    name='2',\n",
        "    marker=dict(\n",
        "        color='#FF851B'\n",
        "    )\n",
        ")\n",
        "trace3 = go.Box(\n",
        "    y=three.ram.values,\n",
        "    x=three.three_g.values,\n",
        "    name='3',\n",
        "    marker=dict(\n",
        "        color='blue'\n",
        "    )\n",
        ")\n",
        "\n",
        "data1 = [trace0, trace1, trace2,trace3]\n",
        "layout = go.Layout(\n",
        "    xaxis=dict(title=\"Three-g\"),\n",
        "    yaxis=dict(\n",
        "        title=\"ram\",\n",
        "        zeroline=False\n",
        "    ),\n",
        "    boxmode='group'\n",
        ")\n",
        "fig = go.Figure(data=data1, layout=layout)\n",
        "iplot(fig)"
      ],
      "metadata": {
        "_kg_hide-input": true,
        "trusted": true,
        "id": "NdqoCMGkJlYx"
      },
      "execution_count": null,
      "outputs": []
    },
    {
      "cell_type": "markdown",
      "source": [
        "<a id=\"9\"></a> <br>\n",
        "#### 6- 4G-RAM- PRICE RANGE"
      ],
      "metadata": {
        "id": "FHt17hyLJlYx"
      }
    },
    {
      "cell_type": "markdown",
      "source": [
        "Following boxplots show 4G or not and ram values according to price range.\n",
        "\n",
        "0= not 4G,\n",
        "1= has 4G"
      ],
      "metadata": {
        "id": "DHJ7GAi-JlYx"
      }
    },
    {
      "cell_type": "code",
      "source": [
        "f, ax = plt.subplots(figsize=(10, 10))\n",
        "ax=sns.swarmplot(x=\"four_g\", y=\"ram\", hue=\"price_range\",\n",
        "              palette=\"Dark2\", data=data)\n",
        "ax=sns.set(style=\"darkgrid\")"
      ],
      "metadata": {
        "_kg_hide-input": true,
        "trusted": true,
        "id": "Tpi-Y7vQJlYx"
      },
      "execution_count": null,
      "outputs": []
    },
    {
      "cell_type": "markdown",
      "source": [
        "<a id=\"10\"></a> <br>\n",
        "#### 7- NUMBER OF CORES OF PROCESOR(n_cores)- RAM and PRICE RANGE"
      ],
      "metadata": {
        "id": "iadKBTR_JlYx"
      }
    },
    {
      "cell_type": "markdown",
      "source": [
        "Following line plot shows number of cores of processors and ram values according to price range."
      ],
      "metadata": {
        "id": "hTZ-IywJJlYx"
      }
    },
    {
      "cell_type": "code",
      "source": [
        "chart=alt.Chart(data).mark_line(\n",
        "    font=\"Helvetica Neue\").encode(\n",
        "    x='ram:Q',\n",
        "    y='n_cores:O',\n",
        "    color=alt.Color('price_range', scale=alt.Scale(scheme=\"Viridis\")),\n",
        "    tooltip=[\"price_range\", \"ram\",'n_cores']\n",
        ").properties(\n",
        "    width=400,\n",
        "    height=300\n",
        ")\n",
        "render(chart)"
      ],
      "metadata": {
        "_kg_hide-input": true,
        "trusted": true,
        "id": "IssRDhyuJlYx"
      },
      "execution_count": null,
      "outputs": []
    },
    {
      "cell_type": "markdown",
      "source": [
        "<a id=\"11\"></a> <br>\n",
        "#### 8- Primary Camera mega pixels(pc) - RAM and Price Range"
      ],
      "metadata": {
        "id": "Lw_eNV2FJlYx"
      }
    },
    {
      "cell_type": "markdown",
      "source": [
        "Following scatter plot shows primary camera mp values and ram values according to price range."
      ],
      "metadata": {
        "id": "MDXE93QfJlYx"
      }
    },
    {
      "cell_type": "code",
      "source": [
        "chart=alt.Chart(data).mark_circle(\n",
        "    opacity=0.8,\n",
        "    stroke='price_range',\n",
        "    strokeWidth=1,\n",
        "    strokeCap='square',\n",
        "    shape=\"diamond\"\n",
        ").encode(\n",
        "    alt.X('ram:O', axis=alt.Axis(labelAngle=0)),\n",
        "    alt.Y('pc:N'),\n",
        "    alt.Size('price_range:Q',\n",
        "        scale=alt.Scale(range=[0, 200])\n",
        "    ),\n",
        "    alt.Color('price_range', scale=alt.Scale(scheme=\"plasma\"))\n",
        ").properties(\n",
        "    width=400,\n",
        "    height=300\n",
        ")\n",
        "render(chart)"
      ],
      "metadata": {
        "_kg_hide-input": true,
        "trusted": true,
        "id": "leiiWJXCJlYx"
      },
      "execution_count": null,
      "outputs": []
    },
    {
      "cell_type": "markdown",
      "source": [
        "<a id=\"12\"></a> <br>\n",
        "#### 9- Front Camera mega pixels(fc) - RAM and Price Range"
      ],
      "metadata": {
        "id": "NvKS6twEJlYx"
      }
    },
    {
      "cell_type": "markdown",
      "source": [
        "Following bar plot shows front camera mp values and average ram values according to price range."
      ],
      "metadata": {
        "id": "tEwzsNq_JlYx"
      }
    },
    {
      "cell_type": "code",
      "source": [
        "bars = alt.Chart(data).mark_bar().encode(\n",
        "    x=alt.X('mean(ram):Q'),\n",
        "    y=alt.Y('fc:N'),\n",
        "    color=alt.Color('price_range', scale=alt.Scale(scheme=\"viridis\"))\n",
        "\n",
        ")\n",
        "\n",
        "text = alt.Chart(data).mark_text(dy=3, dx=-16, color='white').encode(\n",
        "    x=alt.X('mean(ram):Q', stack='zero'),\n",
        "    y=alt.Y('fc:N'),\n",
        "    detail='price_range:N',\n",
        "    text=alt.Text('mean(ram):Q', format='.0f')\n",
        ")\n",
        "\n",
        "render(bars + text)"
      ],
      "metadata": {
        "_kg_hide-input": true,
        "trusted": true,
        "id": "4pIjeIxLJlYx"
      },
      "execution_count": null,
      "outputs": []
    },
    {
      "cell_type": "markdown",
      "source": [
        "<a id=\"13\"></a> <br>\n",
        "#### 10- Weight of mobile phone(mobile_wt)- RAM and Price Range"
      ],
      "metadata": {
        "id": "-MeQuKh1JlYy"
      }
    },
    {
      "cell_type": "markdown",
      "source": [
        "Following line plots show weight of mobile phone and ram values according to price range"
      ],
      "metadata": {
        "id": "PVuFFbnYJlYy"
      }
    },
    {
      "cell_type": "code",
      "source": [
        "chart=alt.Chart(data).mark_area().encode(\n",
        "    x='ram:Q',\n",
        "    y='mobile_wt:Q',\n",
        "    color=alt.Color('price_range', scale=alt.Scale(scheme=\"magma\")),\n",
        "    row=alt.Row('price_range:N')\n",
        ").properties(height=50, width=400)\n",
        "\n",
        "render(chart)"
      ],
      "metadata": {
        "_kg_hide-input": true,
        "trusted": true,
        "id": "JlmtVm9bJlYy"
      },
      "execution_count": null,
      "outputs": []
    },
    {
      "cell_type": "code",
      "source": [
        "chart=alt.Chart(data).mark_circle().encode(\n",
        "    alt.X(alt.repeat(\"column\"), type='quantitative'),\n",
        "    alt.Y(alt.repeat(\"row\"), type='quantitative'),\n",
        "    color=alt.Color('price_range', scale=alt.Scale(scheme=\"plasma\"))\n",
        ").properties(\n",
        "    width=300,\n",
        "    height=200\n",
        ").repeat(\n",
        "    column=[\"m_dep\",'px_height',  'px_width','clock_speed'],\n",
        "    row=[\"ram\"]\n",
        ").interactive()\n",
        "\n",
        "render(chart)"
      ],
      "metadata": {
        "_kg_hide-input": true,
        "trusted": true,
        "id": "wBhQVYKnJlYy"
      },
      "execution_count": null,
      "outputs": []
    },
    {
      "cell_type": "markdown",
      "source": [
        "Following line charts similiar with first bar chart. But y line is talk time."
      ],
      "metadata": {
        "id": "x3OyVc6oJlYy"
      }
    },
    {
      "cell_type": "code",
      "source": [
        "chart=alt.Chart(data).mark_line(interpolate='step-after').encode(\n",
        "    x='ram',\n",
        "    y='talk_time',\n",
        "    column=\"price_range\",\n",
        "    color=alt.Color('price_range', scale=alt.Scale(scheme=\"inferno\"))\n",
        "\n",
        ")\n",
        "render(chart)"
      ],
      "metadata": {
        "_kg_hide-input": true,
        "trusted": true,
        "id": "TDerx7ArJlYy"
      },
      "execution_count": null,
      "outputs": []
    },
    {
      "cell_type": "code",
      "source": [
        "trace0 = go.Violin(\n",
        "    y=zero.ram.values,\n",
        "    x=zero.wifi.values,\n",
        "    name='0',\n",
        "    marker=dict(\n",
        "        color='lightgreen'\n",
        "    )\n",
        ")\n",
        "trace1 = go.Violin(\n",
        "    y=one.ram.values,\n",
        "    x=one.wifi.values,\n",
        "    name='1',\n",
        "    marker=dict(\n",
        "        color='royalblue'\n",
        "    )\n",
        ")\n",
        "trace2 = go.Violin(\n",
        "    y=two.ram.values,\n",
        "    x=two.wifi.values,\n",
        "    name='2',\n",
        "    marker=dict(\n",
        "        color='mediumorchid'\n",
        "    )\n",
        ")\n",
        "trace3 = go.Violin(\n",
        "    y=three.ram.values,\n",
        "    x=three.wifi.values,\n",
        "    name='3',\n",
        "    marker=dict(\n",
        "        color='coral'\n",
        "    )\n",
        ")\n",
        "\n",
        "data1 = [trace0, trace1, trace2,trace3]\n",
        "layout = go.Layout(\n",
        "    xaxis=dict(title=\"Wi-Fi\"),\n",
        "    yaxis=dict(\n",
        "        title=\"ram\",\n",
        "        zeroline=False\n",
        "    ),\n",
        "    boxmode='group'\n",
        ")\n",
        "fig = go.Figure(data=data1, layout=layout)\n",
        "iplot(fig)"
      ],
      "metadata": {
        "_kg_hide-input": true,
        "trusted": true,
        "id": "S2sI1AGRJlYy"
      },
      "execution_count": null,
      "outputs": []
    },
    {
      "cell_type": "markdown",
      "source": [
        "<a id=\"17\"></a> <br>\n",
        "#### 14- DUAL SIM- RAM AND PRICE RANGE"
      ],
      "metadata": {
        "id": "dG8boEqjJlYy"
      }
    },
    {
      "cell_type": "code",
      "source": [
        "g = sns.FacetGrid(data, col=\"dual_sim\", hue=\"price_range\", palette=\"Set1\",height=5\n",
        "                   )\n",
        "g = (g.map(sns.distplot, \"ram\").add_legend())\n"
      ],
      "metadata": {
        "_kg_hide-input": true,
        "trusted": true,
        "id": "qvJqBtJvJlYy"
      },
      "execution_count": null,
      "outputs": []
    },
    {
      "cell_type": "raw",
      "source": [
        "Following scatter plots show screen height of mobile in cm and  screen width of mobile in cm and ram values according to price range."
      ],
      "metadata": {
        "id": "JscGX0vDJlYz"
      }
    },
    {
      "cell_type": "code",
      "source": [
        "color_scale = alt.Scale(domain=['0', '1',\"2\",\"3\"],\n",
        "                        range=['rgb(165,0,38)', 'rgb(253,174,97)','rgb(224,243,248)','rgb(49,54,149)'])\n",
        "base = alt.Chart(data).mark_point().encode(\n",
        "    x='ram',\n",
        "     color=alt.Color('price_range', scale=color_scale)\n",
        ").add_selection(\n",
        "\n",
        ").interactive().properties(\n",
        "    width=400,\n",
        "    height=300,\n",
        "\n",
        ")\n",
        "\n",
        "render(base.encode(y='sc_h') | base.encode(y='sc_w'))"
      ],
      "metadata": {
        "_kg_hide-input": true,
        "trusted": true,
        "id": "gjUjyuhuJlYz"
      },
      "execution_count": null,
      "outputs": []
    },
    {
      "cell_type": "markdown",
      "source": [
        "As we saw in the graphs above, the ram feature affects the price range to a great extent. Likewise, battery power, pixel height and weight resolution are the characteristics that affect the price range slightly."
      ],
      "metadata": {
        "id": "Ul0vQsndJlYz"
      }
    },
    {
      "cell_type": "markdown",
      "source": [
        "<a id=\"19\"></a> <br>\n",
        "## 3- SUPPORT MACHINE VECTOR(SVM) ALGORITHM"
      ],
      "metadata": {
        "id": "5q8YDqRHJlYz"
      }
    },
    {
      "cell_type": "markdown",
      "source": [
        "#### TRAIN AND TEST SPLIT"
      ],
      "metadata": {
        "id": "gu96mm5FJlYz"
      }
    },
    {
      "cell_type": "code",
      "source": [
        "y = data[\"price_range\"].values\n",
        "x_data=data.drop([\"price_range\"],axis=1)\n",
        "x = (x_data-np.min(x_data))/(np.max(x_data)-np.min(x_data))\n",
        "from sklearn.model_selection import train_test_split\n",
        "x_train, x_test, y_train, y_test = train_test_split(x,y,test_size = 0.2,random_state=1)"
      ],
      "metadata": {
        "trusted": true,
        "id": "GshgUuQ1JlYz"
      },
      "execution_count": null,
      "outputs": []
    },
    {
      "cell_type": "markdown",
      "source": [
        "<a id=\"20\"></a> <br>\n",
        "#### Class Balance Visualization"
      ],
      "metadata": {
        "id": "eA88OTkFJlYz"
      }
    },
    {
      "cell_type": "markdown",
      "source": [
        "After applying train- test split let's check how the classes are splitted."
      ],
      "metadata": {
        "id": "kOO_LZvnJlYz"
      }
    },
    {
      "cell_type": "code",
      "source": [
        "from yellowbrick.target import ClassBalance\n",
        "visualizer = ClassBalance(labels=[0, 1, 2,3])\n",
        "visualizer.fit(y_train, y_test)\n",
        "visualizer.poof()"
      ],
      "metadata": {
        "_kg_hide-input": true,
        "trusted": true,
        "id": "IbIvQ5HEJlYz"
      },
      "execution_count": null,
      "outputs": []
    },
    {
      "cell_type": "markdown",
      "source": [
        "All number of classes are about the same."
      ],
      "metadata": {
        "id": "2bgmd-ZeJlYz"
      }
    },
    {
      "cell_type": "markdown",
      "source": [
        "<a id=\"21\"></a> <br>\n",
        "#### FIRST MODEL"
      ],
      "metadata": {
        "id": "WCEd-3flJlYz"
      }
    },
    {
      "cell_type": "code",
      "source": [
        "from sklearn.svm import SVC\n",
        "svm=SVC(random_state=1)\n",
        "svm.fit(x_train,y_train)\n",
        "print(\"train accuracy:\",svm.score(x_train,y_train))\n",
        "print(\"test accuracy:\",svm.score(x_test,y_test))"
      ],
      "metadata": {
        "trusted": true,
        "id": "5eScrsVJJlYz"
      },
      "execution_count": null,
      "outputs": []
    },
    {
      "cell_type": "markdown",
      "source": [
        "After applying sklearn library,first model has 0.91 train accuracy and 0.84 test accuracy.\n",
        "\n",
        "But how can we increase these scores? Firstly let's reduce unnecessary features to improve estimators’ accuracy scores then apply gridsearch method."
      ],
      "metadata": {
        "id": "Un1k8NGrJlYz"
      }
    },
    {
      "cell_type": "markdown",
      "source": [
        "<a id=\"22\"></a> <br>\n",
        "#### FEATURE SELECTION"
      ],
      "metadata": {
        "id": "hgJKRdEQJlYz"
      }
    },
    {
      "cell_type": "markdown",
      "source": [
        "I used f_classif method to determine best features"
      ],
      "metadata": {
        "id": "84mKcviTJlYz"
      }
    },
    {
      "cell_type": "code",
      "source": [
        "from sklearn.feature_selection import SelectKBest\n",
        "from sklearn.feature_selection import f_classif\n",
        "accuracy_list_train = []\n",
        "k=np.arange(1,21,1)\n",
        "for each in k:\n",
        "    x_new = SelectKBest(f_classif, k=each).fit_transform(x_train, y_train)\n",
        "    svm.fit(x_new,y_train)\n",
        "    accuracy_list_train.append(svm.score(x_new,y_train))\n",
        "\n",
        "plt.plot(k,accuracy_list_train,color=\"green\",label=\"train\")\n",
        "plt.xlabel(\"k values\")\n",
        "plt.ylabel(\"train accuracy\")\n",
        "plt.legend()\n",
        "plt.show()\n",
        "\n"
      ],
      "metadata": {
        "trusted": true,
        "id": "KyNx-ZH0JlYz"
      },
      "execution_count": null,
      "outputs": []
    },
    {
      "cell_type": "markdown",
      "source": [
        "In the graph above, we can see 4 or 5 features gives higher train accuracies."
      ],
      "metadata": {
        "id": "TzcvJhcrJlY0"
      }
    },
    {
      "cell_type": "code",
      "source": [
        "d = {'best features number': k, 'train_score': accuracy_list_train}\n",
        "df = pd.DataFrame(data=d)\n",
        "print(\"max accuracy:\",df[\"train_score\"].max())\n",
        "print(\"max accuracy id:\",df[\"train_score\"].idxmax())"
      ],
      "metadata": {
        "trusted": true,
        "id": "r8dPVEDvJlY0"
      },
      "execution_count": null,
      "outputs": []
    },
    {
      "cell_type": "code",
      "source": [
        "print(\" max accuracy values: \\n\", df.iloc[4])"
      ],
      "metadata": {
        "trusted": true,
        "id": "X-CKCG6PJlY0"
      },
      "execution_count": null,
      "outputs": []
    },
    {
      "cell_type": "markdown",
      "source": [
        "I used 5 features because it has the highest accuracy.\n",
        "\n",
        "Now let's determine our features:"
      ],
      "metadata": {
        "id": "X2m9eFbHJlY0"
      }
    },
    {
      "cell_type": "code",
      "source": [
        "selector = SelectKBest(f_classif, k = 5)\n",
        "x_new = selector.fit_transform(x_train, y_train)\n",
        "x_new_test=selector.fit_transform(x_test,y_test)\n",
        "names_train = x_train.columns.values[selector.get_support()]\n",
        "names_test = x_test.columns.values[selector.get_support()]\n",
        "print(\"x train features:\",names_train)\n",
        "print(\"x test features:\",names_test)"
      ],
      "metadata": {
        "trusted": true,
        "id": "mReLFVfHJlY0"
      },
      "execution_count": null,
      "outputs": []
    },
    {
      "cell_type": "markdown",
      "source": [
        "Both train and test data, feature names are battery_power, int_memory,px_height, px_width and ram."
      ],
      "metadata": {
        "id": "3tSWGV1iJlY0"
      }
    },
    {
      "cell_type": "markdown",
      "source": [
        "<a id=\"23\"></a> <br>\n",
        "#### MODEL WITH GRIDSEARCHCV"
      ],
      "metadata": {
        "id": "3AJu_AwJJlY0"
      }
    },
    {
      "cell_type": "code",
      "source": [
        "from sklearn.model_selection import GridSearchCV\n",
        "\n",
        "C=[1,0.1,0.25,0.5,2,0.75]\n",
        "kernel=[\"linear\",\"rbf\"]\n",
        "gamma=[\"auto\",0.01,0.001,0.0001,1]\n",
        "decision_function_shape=[\"ovo\",\"ovr\"]\n"
      ],
      "metadata": {
        "trusted": true,
        "id": "jEtHl-cZJlY0"
      },
      "execution_count": null,
      "outputs": []
    },
    {
      "cell_type": "code",
      "source": [
        "svm=SVC(random_state=1)\n",
        "grid_svm=GridSearchCV(estimator=svm,cv=5,param_grid=dict(kernel=kernel,C=C, gamma=gamma, decision_function_shape=decision_function_shape))\n",
        "grid_svm.fit(x_new,y_train)\n",
        "print(\"best score: \", grid_svm.best_score_)\n",
        "print(\"best param: \", grid_svm.best_params_)"
      ],
      "metadata": {
        "trusted": true,
        "id": "7EB2daiJJlY0"
      },
      "execution_count": null,
      "outputs": []
    },
    {
      "cell_type": "markdown",
      "source": [
        "After applying GridSearch we have best parameters as C:2, decision_function_shape: \"ovo\", gamma: \"auto\" and kernel:\"linear\"."
      ],
      "metadata": {
        "id": "QEaWsdC_JlY0"
      }
    },
    {
      "cell_type": "markdown",
      "source": [
        "<a id=\"24\"></a> <br>\n",
        "#### CV SCORES"
      ],
      "metadata": {
        "id": "1_KknI5HJlY0"
      }
    },
    {
      "cell_type": "code",
      "source": [
        "\n",
        "from sklearn.model_selection import StratifiedKFold\n",
        "from yellowbrick.model_selection import CVScores\n",
        "_, ax = plt.subplots()\n",
        "\n",
        "# Create a cross-validation strategy\n",
        "cv = StratifiedKFold(10)\n",
        "\n",
        "# Create the cv score visualizer\n",
        "oz = CVScores(\n",
        "    SVC(C=2,decision_function_shape=\"ovo\",gamma=\"auto\",kernel=\"linear\",random_state=1), ax=ax, cv=cv, scoring='accuracy'\n",
        ")\n",
        "oz.fit(x_new, y_train)\n",
        "oz.poof()\n"
      ],
      "metadata": {
        "_kg_hide-input": true,
        "trusted": true,
        "id": "hPT4Y51MJlY0"
      },
      "execution_count": null,
      "outputs": []
    },
    {
      "cell_type": "markdown",
      "source": [
        "<a id=\"25\"></a> <br>\n",
        "#### BUILDING MODEL"
      ],
      "metadata": {
        "id": "ZLyGtnc4JlY0"
      }
    },
    {
      "cell_type": "markdown",
      "source": [
        "No lets build the model with the best parameters we have found with the Gridsearch method."
      ],
      "metadata": {
        "id": "4j-tOP5PJlY0"
      }
    },
    {
      "cell_type": "code",
      "source": [
        "svm_model=SVC(C=2,decision_function_shape=\"ovo\",gamma=\"auto\",kernel=\"linear\",random_state=1)\n"
      ],
      "metadata": {
        "trusted": true,
        "id": "ns6vCZr7JlY0"
      },
      "execution_count": null,
      "outputs": []
    },
    {
      "cell_type": "code",
      "source": [
        "svm_model.fit(x_new,y_train)"
      ],
      "metadata": {
        "trusted": true,
        "id": "fGFoG01BJlY0"
      },
      "execution_count": null,
      "outputs": []
    },
    {
      "cell_type": "code",
      "source": [
        "print(\"train_accuracy:\",svm_model.score(x_new,y_train))\n",
        "print(\"test_accuracy: \", svm_model.score(x_new_test,y_test))"
      ],
      "metadata": {
        "trusted": true,
        "id": "iZYPSz7SJlY0"
      },
      "execution_count": null,
      "outputs": []
    },
    {
      "cell_type": "markdown",
      "source": [
        "Our model has 0.96 train accuracy and 0.93 test accuracy. Now check that with confusion matrix."
      ],
      "metadata": {
        "id": "wqmeF--tJlY0"
      }
    },
    {
      "cell_type": "code",
      "source": [
        "from yellowbrick.classifier import ConfusionMatrix\n",
        "cm = ConfusionMatrix(\n",
        "    svm_model, classes=[0,1,2,3]\n",
        ")\n",
        "\n",
        "cm.fit(x_new, y_train)\n",
        "cm.score(x_new_test, y_test)\n",
        "\n",
        "cm.poof()"
      ],
      "metadata": {
        "_kg_hide-input": true,
        "trusted": true,
        "id": "iVx7hc7QJlY0"
      },
      "execution_count": null,
      "outputs": []
    },
    {
      "cell_type": "markdown",
      "source": [
        "According to confusion matrix model knows yellow boxes wrong."
      ],
      "metadata": {
        "id": "zieblRddJlY1"
      }
    },
    {
      "cell_type": "markdown",
      "source": [
        "<a id=\"26\"></a> <br>\n",
        "## 4- PREDICTION VISUALIZATION"
      ],
      "metadata": {
        "id": "TpGfSpnkJlY1"
      }
    },
    {
      "cell_type": "code",
      "source": [
        "y_pred=svm_model.predict(x_new_test)"
      ],
      "metadata": {
        "_kg_hide-input": true,
        "trusted": true,
        "id": "QXfpHJYpJlY1"
      },
      "execution_count": null,
      "outputs": []
    },
    {
      "cell_type": "code",
      "source": [
        "svm_test=x_test[[\"battery_power\",\"int_memory\",\"px_height\",\"px_width\",\"ram\"]]"
      ],
      "metadata": {
        "trusted": true,
        "id": "Oau9eAHqJlY1"
      },
      "execution_count": null,
      "outputs": []
    },
    {
      "cell_type": "code",
      "source": [
        "svm_test[\"y_true\"]=y_test\n",
        "svm_test[\"y_pred\"]=y_pred"
      ],
      "metadata": {
        "_kg_hide-input": true,
        "trusted": true,
        "id": "XciY2EgoJlY1"
      },
      "execution_count": null,
      "outputs": []
    },
    {
      "cell_type": "code",
      "source": [
        "svm_test.head()"
      ],
      "metadata": {
        "trusted": true,
        "id": "2pb-EdBzJlY1"
      },
      "execution_count": null,
      "outputs": []
    },
    {
      "cell_type": "markdown",
      "source": [
        "Following graphs shows ram and battery power features according to true values and predicted values. If you select an area you can see the differences. For example:"
      ],
      "metadata": {
        "id": "5M7zNxBYJlY1"
      }
    },
    {
      "cell_type": "code",
      "source": [
        "brush = alt.selection(type='interval')\n",
        "color_scale = alt.Scale(domain=['0', '1',\"2\",\"3\"],\n",
        "                        range=['black', 'green','red','purple'])\n",
        "points = alt.Chart(title=\"Y True\").mark_point(stroke='price_range',\n",
        "    strokeWidth=4).encode(\n",
        "\n",
        "    x='ram:Q',\n",
        "    y='battery_power:Q',\n",
        "    color=alt.condition(brush, 'y_true:N', alt.value('lightgray'),scale=color_scale)\n",
        ").properties(\n",
        "    selection=brush,\n",
        "    width=800\n",
        ")\n",
        "points2=alt.Chart(title=\"Y Prediction\").mark_point(stroke='price_range',\n",
        "    strokeWidth=4).encode(\n",
        "    x='ram:Q',\n",
        "    y='battery_power:Q',\n",
        "    color=alt.condition(brush, 'y_pred:N', alt.value('lightgray'))\n",
        ").properties(\n",
        "    selection=brush,\n",
        "    width=800\n",
        ")\n",
        "# the bottom bar plot\n",
        "bars = alt.Chart().mark_bar().encode(\n",
        "    y='y_true:N',\n",
        "    color='y_true:N',\n",
        "    x='count(y_true):Q'\n",
        ").transform_filter(\n",
        "    brush.ref() # the filter transform uses the selection\n",
        "                # to filter the input data to this chart\n",
        ")\n",
        "bar2 = alt.Chart().mark_bar().encode(\n",
        "    y='y_pred:N',\n",
        "    color='y_pred:N',\n",
        "    x='count(y_pred):Q'\n",
        ").transform_filter(\n",
        "    brush.ref() # the filter transform uses the selection\n",
        "                # to filter the input data to this chart\n",
        ")\n",
        "chart = alt.vconcat(points, bars,points2,bar2, data=svm_test)\n",
        "render(chart)"
      ],
      "metadata": {
        "_kg_hide-input": true,
        "trusted": true,
        "id": "I8HrAqtdJlY1"
      },
      "execution_count": null,
      "outputs": []
    }
  ]
}