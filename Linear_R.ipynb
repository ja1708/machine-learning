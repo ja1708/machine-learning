{
  "nbformat": 4,
  "nbformat_minor": 0,
  "metadata": {
    "colab": {
      "provenance": []
    },
    "kernelspec": {
      "name": "python3",
      "display_name": "Python 3"
    },
    "language_info": {
      "name": "python"
    }
  },
  "cells": [
    {
      "cell_type": "code",
      "execution_count": 1,
      "metadata": {
        "execution": {
          "iopub.execute_input": "2023-07-30T22:16:15.980855Z",
          "iopub.status.busy": "2023-07-30T22:16:15.980227Z",
          "iopub.status.idle": "2023-07-30T22:16:17.389234Z",
          "shell.execute_reply": "2023-07-30T22:16:17.387658Z"
        },
        "papermill": {
          "duration": 1.422168,
          "end_time": "2023-07-30T22:16:17.392312",
          "exception": false,
          "start_time": "2023-07-30T22:16:15.970144",
          "status": "completed"
        },
        "tags": [],
        "id": "2654aa44"
      },
      "outputs": [],
      "source": [
        "import pandas as pd\n",
        "import numpy as np\n",
        "import seaborn as sns\n",
        "import datetime\n",
        "import matplotlib.pyplot as plt"
      ]
    },
    {
      "cell_type": "code",
      "source": [
        "from google.colab import drive\n",
        "drive.mount('/content/drive')\n"
      ],
      "metadata": {
        "colab": {
          "base_uri": "https://localhost:8080/"
        },
        "id": "ZsNBtQuObze0",
        "outputId": "28020246-e5d2-4cc7-aee1-79a1971e7ae6"
      },
      "execution_count": 2,
      "outputs": [
        {
          "output_type": "stream",
          "name": "stdout",
          "text": [
            "Drive already mounted at /content/drive; to attempt to forcibly remount, call drive.mount(\"/content/drive\", force_remount=True).\n"
          ]
        }
      ]
    },
    {
      "cell_type": "code",
      "execution_count": 3,
      "metadata": {
        "execution": {
          "iopub.execute_input": "2023-07-30T22:16:17.480867Z",
          "iopub.status.busy": "2023-07-30T22:16:17.480463Z",
          "iopub.status.idle": "2023-07-30T22:16:17.534857Z",
          "shell.execute_reply": "2023-07-30T22:16:17.533728Z"
        },
        "papermill": {
          "duration": 0.066836,
          "end_time": "2023-07-30T22:16:17.537413",
          "exception": false,
          "start_time": "2023-07-30T22:16:17.470577",
          "status": "completed"
        },
        "tags": [],
        "id": "bafc4cdd"
      },
      "outputs": [],
      "source": [
        "data = pd.read_csv('/content/drive/MyDrive/Colab Notebooks/Netflix Userbase.csv')"
      ]
    },
    {
      "cell_type": "code",
      "execution_count": 4,
      "metadata": {
        "id": "FXkORJbtNBWR"
      },
      "outputs": [],
      "source": [
        "def mean(values):\n",
        "    return sum(values)/float(len(values))"
      ]
    },
    {
      "cell_type": "code",
      "source": [
        "def variance(values,mean):\n",
        "    return sum([(x-mean)**2 for x in values])"
      ],
      "metadata": {
        "id": "s5MPtzsuNOoZ"
      },
      "execution_count": 5,
      "outputs": []
    },
    {
      "cell_type": "code",
      "source": [
        "def covariance(x,mean_x,y,mean_y):\n",
        "    covar=0.0\n",
        "    for i in range(len(x)):\n",
        "        covar+=(x[i]-mean_x) * (y[i]-mean_y)\n",
        "    return covar\n"
      ],
      "metadata": {
        "id": "1IAn_xxLNS2u"
      },
      "execution_count": 6,
      "outputs": []
    },
    {
      "cell_type": "code",
      "source": [
        "def coefficients(dataset):\n",
        "    b1=covariance(x,mean_x,y,mean_y)/variance(x,mean_x)\n",
        "    b0=mean_y-b1*mean_x\n",
        "    return[b0,b1]"
      ],
      "metadata": {
        "id": "z8pQW1pmNXFm"
      },
      "execution_count": 7,
      "outputs": []
    },
    {
      "cell_type": "code",
      "source": [
        "def simple_linear_regression(train,test):\n",
        "    for row in test:\n",
        "        ytest = b0 + b1 * row[0]\n",
        "    return ytest"
      ],
      "metadata": {
        "id": "0wE9gcKxNZ4O"
      },
      "execution_count": 8,
      "outputs": []
    },
    {
      "cell_type": "code",
      "source": [
        "dataset=[[60,40],[10,23],[34,60],[71,81],[75,55],[69,57],[24,39]]\n",
        "x=[row[0] for row in dataset]\n",
        "y=[row[1] for row in dataset]\n",
        "mean_x=mean(x)\n",
        "mean_y=mean(y)"
      ],
      "metadata": {
        "id": "_89LTj5wNb7f"
      },
      "execution_count": 9,
      "outputs": []
    },
    {
      "cell_type": "code",
      "source": [
        "variance_x=variance(x,mean_x)\n",
        "variance_y=variance(y,mean_y)\n",
        "print('x stats:mean=%.3f variance=%.3f' % (mean_x,variance_x))\n",
        "print('y stats:mean=%.3f variance=%.3f' % (mean_y,variance_y))"
      ],
      "metadata": {
        "colab": {
          "base_uri": "https://localhost:8080/"
        },
        "id": "15Vqtm-ANv8L",
        "outputId": "7996399a-f40e-42f9-c307-03ab8aae48cc"
      },
      "execution_count": 10,
      "outputs": [
        {
          "output_type": "stream",
          "name": "stdout",
          "text": [
            "x stats:mean=49.000 variance=4052.000\n",
            "y stats:mean=50.714 variance=2081.429\n"
          ]
        }
      ]
    },
    {
      "cell_type": "code",
      "source": [
        "covar = covariance(x,mean_x,y,mean_y)\n",
        "print('covariance: %.3f' % (covar))"
      ],
      "metadata": {
        "colab": {
          "base_uri": "https://localhost:8080/"
        },
        "id": "svzEBI8fNzc6",
        "outputId": "d00db19a-face-4fdd-941a-8b423a9892b6"
      },
      "execution_count": 11,
      "outputs": [
        {
          "output_type": "stream",
          "name": "stdout",
          "text": [
            "covariance: 2020.000\n"
          ]
        }
      ]
    },
    {
      "cell_type": "code",
      "source": [
        "b0,b1 = coefficients(dataset)\n",
        "print('coefficients:b0=%.3f,b1=%.3f' % (b0,b1))\n",
        "print('Regression equation of y on x : y=%.3f+%.3fx '% (b0, b1))"
      ],
      "metadata": {
        "colab": {
          "base_uri": "https://localhost:8080/"
        },
        "id": "N5DHlYeKN2jk",
        "outputId": "5a9451c7-eb4b-42b4-b74a-820bb1f4605f"
      },
      "execution_count": 12,
      "outputs": [
        {
          "output_type": "stream",
          "name": "stdout",
          "text": [
            "coefficients:b0=26.287,b1=0.499\n",
            "Regression equation of y on x : y=26.287+0.499x \n"
          ]
        }
      ]
    },
    {
      "cell_type": "code",
      "source": [
        "test=[[55]]\n",
        "result=simple_linear_regression(dataset,test)\n",
        "print('Value of y when x=55 is %.3f' % (result))"
      ],
      "metadata": {
        "colab": {
          "base_uri": "https://localhost:8080/"
        },
        "id": "Gh-3r5cJN6wV",
        "outputId": "c3f1258e-f140-4a67-e3e7-23ec4756a381"
      },
      "execution_count": 13,
      "outputs": [
        {
          "output_type": "stream",
          "name": "stdout",
          "text": [
            "Value of y when x=55 is 53.705\n"
          ]
        }
      ]
    },
    {
      "cell_type": "code",
      "source": [
        "# Select numeric columns for skewness and kurtosis analysis\n",
        "numeric_columns = data.select_dtypes(include=['int64', 'float64']).columns\n",
        "print(numeric_columns)"
      ],
      "metadata": {
        "colab": {
          "base_uri": "https://localhost:8080/"
        },
        "id": "xAGniHXOSHZ6",
        "outputId": "4cace228-affa-4aaf-ea72-8896cc23ab03"
      },
      "execution_count": 14,
      "outputs": [
        {
          "output_type": "stream",
          "name": "stdout",
          "text": [
            "Index(['User ID', 'Monthly Revenue', 'Age'], dtype='object')\n"
          ]
        }
      ]
    },
    {
      "cell_type": "code",
      "source": [
        "from sklearn.linear_model import LinearRegression\n",
        "from sklearn.model_selection import train_test_split\n",
        "\n",
        "x=np.array(data['Age']).reshape(-1,1)\n",
        "y=np.array(data['Monthly Revenue']).reshape(-1,1)\n",
        "x_train, x_test, y_train, y_test = train_test_split(x, y,test_size=0.3,random_state=1)\n",
        "print(y_train.shape)\n",
        "\n",
        "lr = LinearRegression()\n",
        "lr.fit(x_train, y_train)"
      ],
      "metadata": {
        "colab": {
          "base_uri": "https://localhost:8080/",
          "height": 93
        },
        "id": "vcpJ9DErN8eN",
        "outputId": "d739f0f4-f8f0-43f9-ba6e-d7576e826a20"
      },
      "execution_count": 15,
      "outputs": [
        {
          "output_type": "stream",
          "name": "stdout",
          "text": [
            "(1750, 1)\n"
          ]
        },
        {
          "output_type": "execute_result",
          "data": {
            "text/plain": [
              "LinearRegression()"
            ],
            "text/html": [
              "<style>#sk-container-id-1 {color: black;background-color: white;}#sk-container-id-1 pre{padding: 0;}#sk-container-id-1 div.sk-toggleable {background-color: white;}#sk-container-id-1 label.sk-toggleable__label {cursor: pointer;display: block;width: 100%;margin-bottom: 0;padding: 0.3em;box-sizing: border-box;text-align: center;}#sk-container-id-1 label.sk-toggleable__label-arrow:before {content: \"▸\";float: left;margin-right: 0.25em;color: #696969;}#sk-container-id-1 label.sk-toggleable__label-arrow:hover:before {color: black;}#sk-container-id-1 div.sk-estimator:hover label.sk-toggleable__label-arrow:before {color: black;}#sk-container-id-1 div.sk-toggleable__content {max-height: 0;max-width: 0;overflow: hidden;text-align: left;background-color: #f0f8ff;}#sk-container-id-1 div.sk-toggleable__content pre {margin: 0.2em;color: black;border-radius: 0.25em;background-color: #f0f8ff;}#sk-container-id-1 input.sk-toggleable__control:checked~div.sk-toggleable__content {max-height: 200px;max-width: 100%;overflow: auto;}#sk-container-id-1 input.sk-toggleable__control:checked~label.sk-toggleable__label-arrow:before {content: \"▾\";}#sk-container-id-1 div.sk-estimator input.sk-toggleable__control:checked~label.sk-toggleable__label {background-color: #d4ebff;}#sk-container-id-1 div.sk-label input.sk-toggleable__control:checked~label.sk-toggleable__label {background-color: #d4ebff;}#sk-container-id-1 input.sk-hidden--visually {border: 0;clip: rect(1px 1px 1px 1px);clip: rect(1px, 1px, 1px, 1px);height: 1px;margin: -1px;overflow: hidden;padding: 0;position: absolute;width: 1px;}#sk-container-id-1 div.sk-estimator {font-family: monospace;background-color: #f0f8ff;border: 1px dotted black;border-radius: 0.25em;box-sizing: border-box;margin-bottom: 0.5em;}#sk-container-id-1 div.sk-estimator:hover {background-color: #d4ebff;}#sk-container-id-1 div.sk-parallel-item::after {content: \"\";width: 100%;border-bottom: 1px solid gray;flex-grow: 1;}#sk-container-id-1 div.sk-label:hover label.sk-toggleable__label {background-color: #d4ebff;}#sk-container-id-1 div.sk-serial::before {content: \"\";position: absolute;border-left: 1px solid gray;box-sizing: border-box;top: 0;bottom: 0;left: 50%;z-index: 0;}#sk-container-id-1 div.sk-serial {display: flex;flex-direction: column;align-items: center;background-color: white;padding-right: 0.2em;padding-left: 0.2em;position: relative;}#sk-container-id-1 div.sk-item {position: relative;z-index: 1;}#sk-container-id-1 div.sk-parallel {display: flex;align-items: stretch;justify-content: center;background-color: white;position: relative;}#sk-container-id-1 div.sk-item::before, #sk-container-id-1 div.sk-parallel-item::before {content: \"\";position: absolute;border-left: 1px solid gray;box-sizing: border-box;top: 0;bottom: 0;left: 50%;z-index: -1;}#sk-container-id-1 div.sk-parallel-item {display: flex;flex-direction: column;z-index: 1;position: relative;background-color: white;}#sk-container-id-1 div.sk-parallel-item:first-child::after {align-self: flex-end;width: 50%;}#sk-container-id-1 div.sk-parallel-item:last-child::after {align-self: flex-start;width: 50%;}#sk-container-id-1 div.sk-parallel-item:only-child::after {width: 0;}#sk-container-id-1 div.sk-dashed-wrapped {border: 1px dashed gray;margin: 0 0.4em 0.5em 0.4em;box-sizing: border-box;padding-bottom: 0.4em;background-color: white;}#sk-container-id-1 div.sk-label label {font-family: monospace;font-weight: bold;display: inline-block;line-height: 1.2em;}#sk-container-id-1 div.sk-label-container {text-align: center;}#sk-container-id-1 div.sk-container {/* jupyter's `normalize.less` sets `[hidden] { display: none; }` but bootstrap.min.css set `[hidden] { display: none !important; }` so we also need the `!important` here to be able to override the default hidden behavior on the sphinx rendered scikit-learn.org. See: https://github.com/scikit-learn/scikit-learn/issues/21755 */display: inline-block !important;position: relative;}#sk-container-id-1 div.sk-text-repr-fallback {display: none;}</style><div id=\"sk-container-id-1\" class=\"sk-top-container\"><div class=\"sk-text-repr-fallback\"><pre>LinearRegression()</pre><b>In a Jupyter environment, please rerun this cell to show the HTML representation or trust the notebook. <br />On GitHub, the HTML representation is unable to render, please try loading this page with nbviewer.org.</b></div><div class=\"sk-container\" hidden><div class=\"sk-item\"><div class=\"sk-estimator sk-toggleable\"><input class=\"sk-toggleable__control sk-hidden--visually\" id=\"sk-estimator-id-1\" type=\"checkbox\" checked><label for=\"sk-estimator-id-1\" class=\"sk-toggleable__label sk-toggleable__label-arrow\">LinearRegression</label><div class=\"sk-toggleable__content\"><pre>LinearRegression()</pre></div></div></div></div></div>"
            ]
          },
          "metadata": {},
          "execution_count": 15
        }
      ]
    },
    {
      "cell_type": "code",
      "source": [
        "r_sq = lr.score(x, y)\n",
        "print('coefficient of determination:', r_sq)\n"
      ],
      "metadata": {
        "colab": {
          "base_uri": "https://localhost:8080/"
        },
        "id": "klusWIocEoWf",
        "outputId": "56959731-c603-4e89-bbf1-aef14a79b3bb"
      },
      "execution_count": 16,
      "outputs": [
        {
          "output_type": "stream",
          "name": "stdout",
          "text": [
            "coefficient of determination: 0.0004447448452942204\n"
          ]
        }
      ]
    },
    {
      "cell_type": "code",
      "source": [
        "print('intercept:', lr.intercept_)\n",
        "print('slope:', lr.coef_)\n"
      ],
      "metadata": {
        "colab": {
          "base_uri": "https://localhost:8080/"
        },
        "id": "LWUkgW-BEtA5",
        "outputId": "cd2e89c8-f129-4bad-9454-1538a8399235"
      },
      "execution_count": 17,
      "outputs": [
        {
          "output_type": "stream",
          "name": "stdout",
          "text": [
            "intercept: [12.70230465]\n",
            "slope: [[-0.00493271]]\n"
          ]
        }
      ]
    }
  ]
}