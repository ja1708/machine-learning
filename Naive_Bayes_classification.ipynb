{
  "metadata": {
    "kernelspec": {
      "language": "python",
      "display_name": "Python 3",
      "name": "python3"
    },
    "language_info": {
      "pygments_lexer": "ipython3",
      "nbconvert_exporter": "python",
      "version": "3.6.4",
      "file_extension": ".py",
      "codemirror_mode": {
        "name": "ipython",
        "version": 3
      },
      "name": "python",
      "mimetype": "text/x-python"
    },
    "colab": {
      "provenance": [],
      "include_colab_link": true
    }
  },
  "nbformat_minor": 0,
  "nbformat": 4,
  "cells": [
    {
      "cell_type": "markdown",
      "metadata": {
        "id": "view-in-github",
        "colab_type": "text"
      },
      "source": [
        "<a href=\"https://colab.research.google.com/github/RA2112704010018SKY/Machine_Learning/blob/main/Naive_Bayes_classification.ipynb\" target=\"_parent\"><img src=\"https://colab.research.google.com/assets/colab-badge.svg\" alt=\"Open In Colab\"/></a>"
      ]
    },
    {
      "cell_type": "markdown",
      "source": [
        "***"
      ],
      "metadata": {
        "id": "MhYFGqP2LUgD"
      }
    },
    {
      "cell_type": "code",
      "source": [
        "\n",
        "import pandas as pd\n",
        "import numpy as np\n",
        "import matplotlib.pyplot as plt\n",
        "import seaborn as sns\n",
        "import plotly.express as px\n",
        "import plotly.io as pio\n",
        "import itertools\n",
        "from plotly.offline import init_notebook_mode\n",
        "init_notebook_mode(connected=True)\n",
        "import warnings\n",
        "warnings.filterwarnings('ignore')\n",
        "plt.style.use('_mpl-gallery')"
      ],
      "metadata": {
        "execution": {
          "iopub.status.busy": "2022-10-08T22:00:19.331688Z",
          "iopub.execute_input": "2022-10-08T22:00:19.332145Z",
          "iopub.status.idle": "2022-10-08T22:00:19.33916Z",
          "shell.execute_reply.started": "2022-10-08T22:00:19.332111Z",
          "shell.execute_reply": "2022-10-08T22:00:19.338012Z"
        },
        "trusted": true,
        "id": "pxUokZItLUgD"
      },
      "execution_count": null,
      "outputs": []
    },
    {
      "cell_type": "code",
      "source": [
        "from sklearn.preprocessing import StandardScaler, MinMaxScaler\n",
        "from sklearn.model_selection import train_test_split, KFold, cross_val_score\n",
        "from sklearn.naive_bayes import MultinomialNB\n",
        "from sklearn import metrics"
      ],
      "metadata": {
        "execution": {
          "iopub.status.busy": "2022-10-08T22:00:22.115557Z",
          "iopub.execute_input": "2022-10-08T22:00:22.116108Z",
          "iopub.status.idle": "2022-10-08T22:00:22.122578Z",
          "shell.execute_reply.started": "2022-10-08T22:00:22.11606Z",
          "shell.execute_reply": "2022-10-08T22:00:22.121437Z"
        },
        "trusted": true,
        "id": "k2Mu5lP5LUgD"
      },
      "execution_count": null,
      "outputs": []
    },
    {
      "cell_type": "code",
      "source": [
        "# import dataset\n",
        "data = pd.read_csv('../input/customer-behaviour/Customer_Behaviour.csv')\n",
        "print(f\"shape: {data.shape}\")\n",
        "data.head()"
      ],
      "metadata": {
        "execution": {
          "iopub.status.busy": "2022-10-08T22:01:25.210348Z",
          "iopub.execute_input": "2022-10-08T22:01:25.210719Z",
          "iopub.status.idle": "2022-10-08T22:01:25.227726Z",
          "shell.execute_reply.started": "2022-10-08T22:01:25.210687Z",
          "shell.execute_reply": "2022-10-08T22:01:25.226377Z"
        },
        "trusted": true,
        "id": "EvH25CldLUgD"
      },
      "execution_count": null,
      "outputs": []
    },
    {
      "cell_type": "markdown",
      "source": [
        "<div style=\"color:orange;\n",
        "           display:fill;\n",
        "           border-radius:5px;\n",
        "           font-family:Verdana;\n",
        "           letter-spacing:0.5px;\n",
        "           background-color:black;\n",
        "            text-align:center;\n",
        "            padding: 1px;\">\n",
        "\n",
        "<h1 id=\"head2\">\n",
        "    <p style=\"padding: 6px;\n",
        "              font-size:100%;\n",
        "              color:orange;\n",
        "              text-align:center;\">\n",
        "              2. Overview of Dataset\n",
        "    <a class=\"anchor-link\" href=\"https://www.kaggle.com/arezalo/customer-behaviour-prediction-naive-bayes#head2\">¶</a></p>\n",
        "</h1>\n",
        "</div>"
      ],
      "metadata": {
        "id": "RRCbpQ3dLUgD"
      }
    },
    {
      "cell_type": "code",
      "source": [
        "df = pd.DataFrame(data)\n",
        "df"
      ],
      "metadata": {
        "execution": {
          "iopub.status.busy": "2022-10-08T22:01:29.954164Z",
          "iopub.execute_input": "2022-10-08T22:01:29.955311Z",
          "iopub.status.idle": "2022-10-08T22:01:29.978475Z",
          "shell.execute_reply.started": "2022-10-08T22:01:29.95525Z",
          "shell.execute_reply": "2022-10-08T22:01:29.977538Z"
        },
        "trusted": true,
        "id": "AxcNeMITLUgE"
      },
      "execution_count": null,
      "outputs": []
    },
    {
      "cell_type": "code",
      "source": [
        "df.info()"
      ],
      "metadata": {
        "execution": {
          "iopub.status.busy": "2022-10-08T22:01:29.980632Z",
          "iopub.execute_input": "2022-10-08T22:01:29.981495Z",
          "iopub.status.idle": "2022-10-08T22:01:30.012684Z",
          "shell.execute_reply.started": "2022-10-08T22:01:29.981369Z",
          "shell.execute_reply": "2022-10-08T22:01:30.011652Z"
        },
        "trusted": true,
        "id": "HK3KiTlTLUgE"
      },
      "execution_count": null,
      "outputs": []
    },
    {
      "cell_type": "markdown",
      "source": [
        "<div style=\"color:orange;\n",
        "           display:fill;\n",
        "           border-radius:5px;\n",
        "           font-family:Verdana;\n",
        "           letter-spacing:0.5px;\n",
        "           background-color:black;\n",
        "            text-align:center;\n",
        "            padding: 1px;\">\n",
        "\n",
        "<h1 id=\"head3\">\n",
        "    <p style=\"padding: 6px;\n",
        "              font-size:100%;\n",
        "              color:orange;\n",
        "              text-align:center;\">\n",
        "              3. Preparing Dataset\n",
        "    <a class=\"anchor-link\" href=\"https://www.kaggle.com/arezalo/customer-behaviour-prediction-naive-bayes#head3\">¶</a></p>\n",
        "</h1>\n",
        "</div>"
      ],
      "metadata": {
        "id": "btNJ_8iaLUgE"
      }
    },
    {
      "cell_type": "code",
      "source": [
        "# Check missing value\n",
        "df.isnull().sum().to_frame('NaN value').T"
      ],
      "metadata": {
        "execution": {
          "iopub.status.busy": "2022-10-08T22:01:46.158817Z",
          "iopub.execute_input": "2022-10-08T22:01:46.159221Z",
          "iopub.status.idle": "2022-10-08T22:01:46.173387Z",
          "shell.execute_reply.started": "2022-10-08T22:01:46.159189Z",
          "shell.execute_reply": "2022-10-08T22:01:46.172124Z"
        },
        "trusted": true,
        "id": "kz-NUhSeLUgE"
      },
      "execution_count": null,
      "outputs": []
    },
    {
      "cell_type": "code",
      "source": [
        "# check count of unique values in each columns\n",
        "for col in df:\n",
        "    print(f\"{col}: {df[col].nunique()}\")"
      ],
      "metadata": {
        "execution": {
          "iopub.status.busy": "2022-10-08T22:01:46.556349Z",
          "iopub.execute_input": "2022-10-08T22:01:46.556793Z",
          "iopub.status.idle": "2022-10-08T22:01:46.566549Z",
          "shell.execute_reply.started": "2022-10-08T22:01:46.556757Z",
          "shell.execute_reply": "2022-10-08T22:01:46.564941Z"
        },
        "trusted": true,
        "id": "f0DC61h3LUgE"
      },
      "execution_count": null,
      "outputs": []
    },
    {
      "cell_type": "code",
      "source": [
        "# more details\n",
        "df.describe(include=[np.number]).T"
      ],
      "metadata": {
        "execution": {
          "iopub.status.busy": "2022-10-08T22:01:47.340791Z",
          "iopub.execute_input": "2022-10-08T22:01:47.341223Z",
          "iopub.status.idle": "2022-10-08T22:01:47.3737Z",
          "shell.execute_reply.started": "2022-10-08T22:01:47.34119Z",
          "shell.execute_reply": "2022-10-08T22:01:47.372491Z"
        },
        "trusted": true,
        "id": "x0tESY6SLUgE"
      },
      "execution_count": null,
      "outputs": []
    },
    {
      "cell_type": "code",
      "source": [
        "df.describe(include=[object]).T"
      ],
      "metadata": {
        "execution": {
          "iopub.status.busy": "2022-10-08T22:01:47.377094Z",
          "iopub.execute_input": "2022-10-08T22:01:47.377537Z",
          "iopub.status.idle": "2022-10-08T22:01:47.392254Z",
          "shell.execute_reply.started": "2022-10-08T22:01:47.377504Z",
          "shell.execute_reply": "2022-10-08T22:01:47.391394Z"
        },
        "trusted": true,
        "id": "zf2DD_Q_LUgE"
      },
      "execution_count": null,
      "outputs": []
    },
    {
      "cell_type": "code",
      "source": [
        "# Drop User ID columns\n",
        "df.drop('User ID', axis=1, inplace=True)\n",
        "df"
      ],
      "metadata": {
        "execution": {
          "iopub.status.busy": "2022-10-08T22:01:49.540633Z",
          "iopub.execute_input": "2022-10-08T22:01:49.541065Z",
          "iopub.status.idle": "2022-10-08T22:01:49.557753Z",
          "shell.execute_reply.started": "2022-10-08T22:01:49.541029Z",
          "shell.execute_reply": "2022-10-08T22:01:49.556613Z"
        },
        "trusted": true,
        "id": "Ss36wEBiLUgE"
      },
      "execution_count": null,
      "outputs": []
    },
    {
      "cell_type": "code",
      "source": [
        "# convert categoriacl feature to numerical:\n",
        "# only Gender is categorical\n",
        "df['Gender'] = df['Gender'].replace(['Male', 'Female'], [0, 1])\n",
        "df"
      ],
      "metadata": {
        "execution": {
          "iopub.status.busy": "2022-10-08T22:01:51.090584Z",
          "iopub.execute_input": "2022-10-08T22:01:51.091016Z",
          "iopub.status.idle": "2022-10-08T22:01:51.10896Z",
          "shell.execute_reply.started": "2022-10-08T22:01:51.090971Z",
          "shell.execute_reply": "2022-10-08T22:01:51.107719Z"
        },
        "trusted": true,
        "id": "0S1oslk_LUgE"
      },
      "execution_count": null,
      "outputs": []
    },
    {
      "cell_type": "code",
      "source": [
        "df.info()"
      ],
      "metadata": {
        "execution": {
          "iopub.status.busy": "2022-10-08T22:01:51.111121Z",
          "iopub.execute_input": "2022-10-08T22:01:51.111478Z",
          "iopub.status.idle": "2022-10-08T22:01:51.123939Z",
          "shell.execute_reply.started": "2022-10-08T22:01:51.111442Z",
          "shell.execute_reply": "2022-10-08T22:01:51.122793Z"
        },
        "trusted": true,
        "id": "7nGimrXbLUgF"
      },
      "execution_count": null,
      "outputs": []
    },
    {
      "cell_type": "code",
      "source": [
        "df.isna().sum()"
      ],
      "metadata": {
        "execution": {
          "iopub.status.busy": "2022-10-08T22:01:51.125208Z",
          "iopub.execute_input": "2022-10-08T22:01:51.125579Z",
          "iopub.status.idle": "2022-10-08T22:01:51.139325Z",
          "shell.execute_reply.started": "2022-10-08T22:01:51.125546Z",
          "shell.execute_reply": "2022-10-08T22:01:51.138448Z"
        },
        "trusted": true,
        "id": "YhWmmuZ0LUgF"
      },
      "execution_count": null,
      "outputs": []
    },
    {
      "cell_type": "code",
      "source": [
        "df.describe().T"
      ],
      "metadata": {
        "execution": {
          "iopub.status.busy": "2022-10-08T22:02:13.543705Z",
          "iopub.execute_input": "2022-10-08T22:02:13.544184Z",
          "iopub.status.idle": "2022-10-08T22:02:13.576508Z",
          "shell.execute_reply.started": "2022-10-08T22:02:13.544147Z",
          "shell.execute_reply": "2022-10-08T22:02:13.575217Z"
        },
        "trusted": true,
        "id": "u38WrWrrLUgF"
      },
      "execution_count": null,
      "outputs": []
    },
    {
      "cell_type": "code",
      "source": [
        "# count based on Purchased (countplot)\n",
        "fig, axes = plt.subplots(1,2,figsize=(10,4))\n",
        "\n",
        "sns.countplot(data=df, x='Purchased', ax=axes[0])\n",
        "for container in axes[0].containers:\n",
        "    axes[0].bar_label(container)\n",
        "\n",
        "# count based on Purchased (pie chart)\n",
        "slices = df.Purchased.value_counts().values\n",
        "activities = ['No Purchased (0)', 'Purchased (1)']\n",
        "axes[1].pie(slices, labels=activities, colors=['blue','orange'], shadow=True, explode=[0,0.05], autopct='%1.1f%%')\n",
        "\n",
        "plt.suptitle('Count of Purchased', y=1.09, **font)\n",
        "plt.show()"
      ],
      "metadata": {
        "execution": {
          "iopub.status.busy": "2022-10-08T22:02:13.960004Z",
          "iopub.execute_input": "2022-10-08T22:02:13.961284Z",
          "iopub.status.idle": "2022-10-08T22:02:14.402007Z",
          "shell.execute_reply.started": "2022-10-08T22:02:13.961244Z",
          "shell.execute_reply": "2022-10-08T22:02:14.400787Z"
        },
        "trusted": true,
        "id": "iRlZkhvKLUgF"
      },
      "execution_count": null,
      "outputs": []
    },
    {
      "cell_type": "code",
      "source": [
        "# count based on Gender (countplot)\n",
        "fig, axes = plt.subplots(1,2,figsize=(10,4))\n",
        "\n",
        "sns.countplot(data=df, x='Gender', ax=axes[0])\n",
        "for container in axes[0].containers:\n",
        "    axes[0].bar_label(container)\n",
        "\n",
        "# count based on Gender (pie chart)\n",
        "slices = df.Gender.value_counts().values\n",
        "activities = ['Female (1)', 'Male (0)']\n",
        "axes[1].pie(slices, labels=activities, colors=['blue','orange'], shadow=True, explode=[0,0.05], autopct='%1.1f%%')\n",
        "\n",
        "plt.suptitle('Count of Gender', y=1.09, **font)\n",
        "plt.show()"
      ],
      "metadata": {
        "execution": {
          "iopub.status.busy": "2022-10-08T22:02:14.40386Z",
          "iopub.execute_input": "2022-10-08T22:02:14.404272Z",
          "iopub.status.idle": "2022-10-08T22:02:14.685706Z",
          "shell.execute_reply.started": "2022-10-08T22:02:14.404243Z",
          "shell.execute_reply": "2022-10-08T22:02:14.684613Z"
        },
        "trusted": true,
        "id": "9heMhNzbLUgF"
      },
      "execution_count": null,
      "outputs": []
    },
    {
      "cell_type": "markdown",
      "source": [
        "<div style=\"color:orange;\n",
        "           display:fill;\n",
        "           border-radius:5px;\n",
        "           font-family:Verdana;\n",
        "           letter-spacing:0.5px;\n",
        "           background-color:black;\n",
        "            text-align:center;\n",
        "            padding: 1px;\">\n",
        "\n",
        "<h1 id=\"head42\">\n",
        "    <p style=\"padding: 6px;\n",
        "              font-size:100%;\n",
        "              color:orange;\n",
        "              text-align:center;\">\n",
        "              4.2. Bivariate Analysis\n",
        "    <a class=\"anchor-link\" href=\"https://www.kaggle.com/arezalo/customer-behaviour-prediction-naive-bayes#head42\">¶</a></p>\n",
        "</h1>\n",
        "</div>"
      ],
      "metadata": {
        "id": "hYRLUDs5LUgF"
      }
    },
    {
      "cell_type": "code",
      "source": [
        "# count of purchased based on Gender\n",
        "%matplotlib inline\n",
        "ax = sns.countplot(data=df, x='Purchased', hue='Gender')\n",
        "for container in ax.containers:\n",
        "    ax.bar_label(container)\n",
        "plt.title('Count of Purchased (based on Gender)', fontdict=font, pad=15)\n",
        "plt.show()"
      ],
      "metadata": {
        "execution": {
          "iopub.status.busy": "2022-10-08T22:02:24.174643Z",
          "iopub.execute_input": "2022-10-08T22:02:24.175093Z",
          "iopub.status.idle": "2022-10-08T22:02:24.409055Z",
          "shell.execute_reply.started": "2022-10-08T22:02:24.175057Z",
          "shell.execute_reply": "2022-10-08T22:02:24.407911Z"
        },
        "trusted": true,
        "id": "mi9gY1JOLUgM"
      },
      "execution_count": null,
      "outputs": []
    },
    {
      "cell_type": "code",
      "source": [
        "# heatmap\n",
        "sns.heatmap(df.corr(), cmap='Reds', annot=True)\n",
        "plt.suptitle('Count of Purchased (based on Gender)', y=1.09, x=0.35, **font)\n",
        "plt.show()"
      ],
      "metadata": {
        "execution": {
          "iopub.status.busy": "2022-10-08T22:02:24.570851Z",
          "iopub.execute_input": "2022-10-08T22:02:24.571251Z",
          "iopub.status.idle": "2022-10-08T22:02:24.865405Z",
          "shell.execute_reply.started": "2022-10-08T22:02:24.571219Z",
          "shell.execute_reply": "2022-10-08T22:02:24.864021Z"
        },
        "trusted": true,
        "id": "vzeEAgjQLUgM"
      },
      "execution_count": null,
      "outputs": []
    },
    {
      "cell_type": "code",
      "source": [
        "# draw box plot of Estimated salary for male(0) or female(1) Gender\n",
        "# draw box plot of Estimated salary for no purchased(0) or purchased(1)\n",
        "for col in ['Gender', 'Purchased']:\n",
        "    sns.boxplot(data=df, x=col, y='EstimatedSalary')\n",
        "    plt.title(f'Box plot of EstimatedSalary for {col}', fontdict=font)\n",
        "    plt.show()"
      ],
      "metadata": {
        "execution": {
          "iopub.status.busy": "2022-10-08T22:02:24.867575Z",
          "iopub.execute_input": "2022-10-08T22:02:24.867904Z",
          "iopub.status.idle": "2022-10-08T22:02:25.299079Z",
          "shell.execute_reply.started": "2022-10-08T22:02:24.867875Z",
          "shell.execute_reply": "2022-10-08T22:02:25.297888Z"
        },
        "trusted": true,
        "id": "fKylQz85LUgM"
      },
      "execution_count": null,
      "outputs": []
    },
    {
      "cell_type": "code",
      "source": [
        "%matplotlib inline\n",
        "# check feature correlation\n",
        "sns.scatterplot(data=df,x='Age', y='EstimatedSalary', hue='Purchased',)\n",
        "plt.title('Scatter plot of features', y=1.04, fontdict=font)\n",
        "plt.xticks(np.arange(15,65,5))\n",
        "plt.show()"
      ],
      "metadata": {
        "execution": {
          "iopub.status.busy": "2022-10-08T22:02:47.627767Z",
          "iopub.execute_input": "2022-10-08T22:02:47.628776Z",
          "iopub.status.idle": "2022-10-08T22:02:47.93396Z",
          "shell.execute_reply.started": "2022-10-08T22:02:47.628722Z",
          "shell.execute_reply": "2022-10-08T22:02:47.932786Z"
        },
        "trusted": true,
        "id": "EgOai6BhLUgN"
      },
      "execution_count": null,
      "outputs": []
    },
    {
      "cell_type": "markdown",
      "source": [
        "For a better view, we draw a 3D scatter plot"
      ],
      "metadata": {
        "id": "ErlPruhjLUgN"
      }
    },
    {
      "cell_type": "code",
      "source": [
        "fig = px.scatter_3d(\n",
        "        data_frame=df,\n",
        "        x='Age',\n",
        "        y='EstimatedSalary',\n",
        "        z='Gender',\n",
        "        color='Purchased',\n",
        "        template='ggplot2',\n",
        "        opacity=0.6,\n",
        "        height=700,\n",
        "        title=f'3d scatter based on Age, EstimatedSalary, Gender and Purchased'\n",
        ")\n",
        "\n",
        "pio.show(fig)"
      ],
      "metadata": {
        "execution": {
          "iopub.status.busy": "2022-10-08T22:02:47.936158Z",
          "iopub.execute_input": "2022-10-08T22:02:47.937021Z",
          "iopub.status.idle": "2022-10-08T22:02:49.096928Z",
          "shell.execute_reply.started": "2022-10-08T22:02:47.936983Z",
          "shell.execute_reply": "2022-10-08T22:02:49.095307Z"
        },
        "trusted": true,
        "id": "h3NZN-fALUgN"
      },
      "execution_count": null,
      "outputs": []
    },
    {
      "cell_type": "code",
      "source": [
        "# check mean of EstimatedSalary based on Gender and Purchased\n",
        "results = pd.pivot_table(data=df, index='Purchased', columns='Gender', values='EstimatedSalary')\n",
        "results.style.background_gradient(cmap='summer_r')"
      ],
      "metadata": {
        "execution": {
          "iopub.status.busy": "2022-10-08T22:02:49.100704Z",
          "iopub.execute_input": "2022-10-08T22:02:49.1011Z",
          "iopub.status.idle": "2022-10-08T22:02:49.190779Z",
          "shell.execute_reply.started": "2022-10-08T22:02:49.101065Z",
          "shell.execute_reply": "2022-10-08T22:02:49.189451Z"
        },
        "trusted": true,
        "id": "VlE7YJ9YLUgN"
      },
      "execution_count": null,
      "outputs": []
    },
    {
      "cell_type": "code",
      "source": [
        "# show result in heatmap\n",
        "sns.heatmap(results, cmap='summer_r', annot=True)\n",
        "plt.suptitle('EstimatedSalary for Gender and Purchased', y=1.09, x=0.4, **font)\n",
        "plt.show()"
      ],
      "metadata": {
        "execution": {
          "iopub.status.busy": "2022-10-08T22:03:49.976892Z",
          "iopub.execute_input": "2022-10-08T22:03:49.978019Z",
          "iopub.status.idle": "2022-10-08T22:03:50.226514Z",
          "shell.execute_reply.started": "2022-10-08T22:03:49.977972Z",
          "shell.execute_reply": "2022-10-08T22:03:50.22568Z"
        },
        "trusted": true,
        "id": "Tq4rxzbULUgN"
      },
      "execution_count": null,
      "outputs": []
    },
    {
      "cell_type": "code",
      "source": [
        "# check mean of Age based on Gender and Purchased\n",
        "results = pd.pivot_table(data=df, index='Purchased', columns='Gender', values='Age')\n",
        "results.style.background_gradient(cmap='summer_r')"
      ],
      "metadata": {
        "execution": {
          "iopub.status.busy": "2022-10-08T22:03:51.047511Z",
          "iopub.execute_input": "2022-10-08T22:03:51.047915Z",
          "iopub.status.idle": "2022-10-08T22:03:51.073869Z",
          "shell.execute_reply.started": "2022-10-08T22:03:51.047881Z",
          "shell.execute_reply": "2022-10-08T22:03:51.072488Z"
        },
        "trusted": true,
        "id": "SwF5FCnYLUgN"
      },
      "execution_count": null,
      "outputs": []
    },
    {
      "cell_type": "code",
      "source": [
        "# show result in heatmap\n",
        "sns.heatmap(results, cmap='summer_r', annot=True)\n",
        "plt.suptitle('Age for Gender and Purchased', y=1.09, x=0.4, **font)\n",
        "plt.show()"
      ],
      "metadata": {
        "execution": {
          "iopub.status.busy": "2022-10-08T22:03:52.655012Z",
          "iopub.execute_input": "2022-10-08T22:03:52.655441Z",
          "iopub.status.idle": "2022-10-08T22:03:52.901321Z",
          "shell.execute_reply.started": "2022-10-08T22:03:52.655391Z",
          "shell.execute_reply": "2022-10-08T22:03:52.900485Z"
        },
        "trusted": true,
        "id": "R0D-SDhKLUgO"
      },
      "execution_count": null,
      "outputs": []
    },
    {
      "cell_type": "code",
      "source": [
        "# Our dataset we use for modeling\n",
        "df"
      ],
      "metadata": {
        "execution": {
          "iopub.status.busy": "2022-10-08T22:04:11.823451Z",
          "iopub.execute_input": "2022-10-08T22:04:11.824149Z",
          "iopub.status.idle": "2022-10-08T22:04:11.838772Z",
          "shell.execute_reply.started": "2022-10-08T22:04:11.824109Z",
          "shell.execute_reply": "2022-10-08T22:04:11.837567Z"
        },
        "trusted": true,
        "id": "as4c3RBvLUgO"
      },
      "execution_count": null,
      "outputs": []
    },
    {
      "cell_type": "code",
      "source": [
        "# standardize EstimatedSalary and Age with StandardScaler\n",
        "df2 = df.copy()\n",
        "scaler = MinMaxScaler(feature_range=(18,60)).fit(df[['EstimatedSalary']])\n",
        "df2['EstimatedSalary'] = scaler.transform(df2['EstimatedSalary'].values.reshape(-1,1))\n",
        "df2"
      ],
      "metadata": {
        "execution": {
          "iopub.status.busy": "2022-10-08T22:04:16.808607Z",
          "iopub.execute_input": "2022-10-08T22:04:16.809988Z",
          "iopub.status.idle": "2022-10-08T22:04:16.827954Z",
          "shell.execute_reply.started": "2022-10-08T22:04:16.809944Z",
          "shell.execute_reply": "2022-10-08T22:04:16.827146Z"
        },
        "trusted": true,
        "id": "Fl7A8uUkLUgP"
      },
      "execution_count": null,
      "outputs": []
    },
    {
      "cell_type": "code",
      "source": [
        "# define x (features) and y (target)\n",
        "x = np.asanyarray(df2.drop('Purchased', axis=1))\n",
        "y = df2.Purchased.values.reshape(-1,1)"
      ],
      "metadata": {
        "execution": {
          "iopub.status.busy": "2022-10-08T22:04:16.829703Z",
          "iopub.execute_input": "2022-10-08T22:04:16.83031Z",
          "iopub.status.idle": "2022-10-08T22:04:16.841165Z",
          "shell.execute_reply.started": "2022-10-08T22:04:16.830277Z",
          "shell.execute_reply": "2022-10-08T22:04:16.83987Z"
        },
        "trusted": true,
        "id": "IyogulRPLUgP"
      },
      "execution_count": null,
      "outputs": []
    },
    {
      "cell_type": "code",
      "source": [
        "FPR1 = []\n",
        "TPR1 = []\n",
        "FPR0 = []\n",
        "TPR0 = []\n",
        "ACC_test = []\n",
        "ACC_train = []\n",
        "Recall = []\n",
        "Precision = []\n",
        "F1 = []\n",
        "\n",
        "def plot_confusion_matrix2(cm, classes,\n",
        "                          title='Confusion matrix',\n",
        "                          cmap=plt.cm.Blues):\n",
        "    \"\"\"\n",
        "    This function plots the confusion matrix.\n",
        "        cm(array): confusion matrix\n",
        "        classes(dictionary): classes in our target\n",
        "    \"\"\"\n",
        "    plt.figure(figsize=(10,7))\n",
        "    plt.grid(False)\n",
        "    plt.imshow(cm, interpolation='nearest', cmap=cmap)\n",
        "    plt.title(title)\n",
        "    plt.colorbar()\n",
        "    tick_marks = np.arange(len(classes))\n",
        "    plt.xticks(tick_marks, classes, rotation=45)\n",
        "    plt.yticks(tick_marks, classes)\n",
        "\n",
        "    fmt ='d'\n",
        "    thresh = cm.max() / 2.\n",
        "    for i, j in itertools.product(range(cm.shape[0]), range(cm.shape[1])):\n",
        "        plt.text(j, i, format(cm[i, j], fmt),\n",
        "                 horizontalalignment=\"center\",\n",
        "                 color=\"white\" if cm[i, j] > thresh else \"black\")\n",
        "\n",
        "\n",
        "    plt.ylabel('Actual')\n",
        "    plt.xlabel('Predicted')\n",
        "    plt.tight_layout()\n",
        "    plt.show()\n",
        "\n",
        "# --------------------------------------------------------------------------------------\n",
        "\n",
        "def Perform_cross_val(model, k, x, y, scoring):\n",
        "    \"\"\"\n",
        "    perform cross validation\n",
        "        model: logistic model\n",
        "        k(scaler): the value for n_splits in KFold()\n",
        "        x(DataFrame or array):  x_train\n",
        "        y(DataFrame or array): y_train\n",
        "        scoring(string): an approach for evaluation in cross validation\n",
        "    \"\"\"\n",
        "\n",
        "    kf = KFold(n_splits=k)\n",
        "    cv_results = cross_val_score(model, x, y, cv=kf, scoring=scoring)\n",
        "    cv_mean = np.mean(cv_results)\n",
        "    print('-'*20, f\"CV for k={k}, scoring={scoring}\", '-'*20)\n",
        "    print(f\"CV mean: {cv_mean}\")\n",
        "    print(f\"CV results: {cv_results}\\n\")\n",
        "\n",
        "# --------------------------------------------------------------------------------------\n",
        "\n",
        "def find_fold_index(k, x):\n",
        "    \"\"\"\n",
        "    Find fold index in kfold\n",
        "        k(scaler): the value used for n_splits in KFold()\n",
        "        x(DataFrame or array): x_train\n",
        "    \"\"\"\n",
        "\n",
        "    my_fold_index = []\n",
        "    j=1\n",
        "    for _ , test in KFold(k).split(x):\n",
        "\n",
        "        my_fold_index = []\n",
        "        for i in test:\n",
        "            my_fold_index.append(i)\n",
        "        print(f\"fold {j}: [{my_fold_index[0]},{my_fold_index[-1]}]\")\n",
        "        print(20*'-')\n",
        "        j += 1\n",
        "\n",
        "# --------------------------------------------------------------------------------------\n",
        "\n",
        "def plot_results(FPR0, TPR0, FPR1, TPR1, ACC_test, ACC_train, Recall, Precision, F1):\n",
        "    \"\"\"\n",
        "    draw ROC curve and plot of Recall, precision, f1 score etc.\n",
        "        FPR0(list): list of False Positive Rate for class 0\n",
        "        TPR0(list): list of True Positive Rate for class 0\n",
        "        FPR1(list): list of Flase Positive Rate for class 1\n",
        "        TPR1(list): list of True Positive Rate for class 1\n",
        "        ACC(list): list of accuracy of models\n",
        "        Recall(list): list of recall score of models\n",
        "        Precision(list): list of Precision score of models\n",
        "        F1(list): list of F1 score of models\n",
        "    \"\"\"\n",
        "    fig, ax = plt.subplots(1,2,figsize=(10,4))\n",
        "    # plot model evaluation\n",
        "    ax[0].set_title('Model Evaluation Results', fontdict=font, y=1.02)\n",
        "    sns.lineplot(data=pd.DataFrame({'accoracy': ACC_test, 'Recall': Recall,\n",
        "                                    'Precision': Precision, 'F1 score': F1}),\n",
        "                                    markers=True, ax=ax[0])\n",
        "    ax[0].set_xlabel('M')\n",
        "    ax[0].set_ylabel('Evaluation')\n",
        "    ax[0].legend(loc='upper center', bbox_to_anchor=(0.5, -0.12),\n",
        "          fancybox=True, shadow=True)\n",
        "\n",
        "    # plot model evaluation\n",
        "    ax[1].set_title('Model Accuracy Results for train and test', fontdict=font, y=1.02)\n",
        "    sns.lineplot(data=pd.DataFrame({'test accuracy': ACC_test, 'train accuracy': ACC_train}),\n",
        "                                    markers=True, ax=ax[1])\n",
        "    ax[1].set_xlabel('M')\n",
        "    ax[1].set_ylabel('Accuracy')\n",
        "    ax[1].legend(loc='upper center', bbox_to_anchor=(0.5, -0.12),\n",
        "          fancybox=True, shadow=True)\n",
        "    plt.show()\n",
        "\n",
        "    # plot ROC curve for class 1\n",
        "    fig, ax = plt.subplots(1,2,figsize=(10,4))\n",
        "    i=1\n",
        "    ax[0].set_title('ROC Curve of Class 1', fontdict=font, y=1.02)\n",
        "    for fpr , tpr in zip(FPR1, TPR1):\n",
        "        ax[0].plot(fpr, tpr, label=f\"ROC curve of model{i} (AUC = {round(metrics.auc(fpr, tpr),3)})\")\n",
        "        i += 1\n",
        "        ax[0].set_xlabel('FPR')\n",
        "        ax[0].set_ylabel('TPR')\n",
        "    ax[0].legend(loc='upper center', bbox_to_anchor=(0.5, -0.12),\n",
        "          fancybox=True, shadow=True)\n",
        "\n",
        "    # plot ROC curve for class zero\n",
        "    i=1\n",
        "    ax[1].set_title('ROC Curve of Class 0', fontdict=font, y=1.02)\n",
        "    for fpr , tpr in zip(FPR0, TPR0):\n",
        "        ax[1].plot(fpr, tpr, '--', label=f\"ROC curve of model{i} (AUC = {round(metrics.auc(fpr, tpr),3)})\")\n",
        "        i += 1\n",
        "        ax[1].set_xlabel('FPR')\n",
        "        ax[1].set_ylabel('TPR')\n",
        "    ax[1].legend(loc='upper center', bbox_to_anchor=(0.5, -0.12),\n",
        "        fancybox=True, shadow=True)\n",
        "\n",
        "    plt.show()\n",
        "\n",
        "# --------------------------------------------------------------------------------------\n",
        "\n",
        "def modeling(x, y, test_size, classes, is_add=1 ):\n",
        "\n",
        "    # split data to train and test\n",
        "    x_train, x_test, y_train, y_test = train_test_split(x, y, test_size=test_size, random_state=0)\n",
        "    print(20*'-', 'Shape', 20*'-')\n",
        "    print(f\"x_train: {x_train.shape}\")\n",
        "    print(f\"y_train: {y_train.shape}\")\n",
        "    print(f\"x_test: {x_test.shape}\")\n",
        "    print(f\"y_test: {y_test.shape}\")\n",
        "\n",
        "\n",
        "\n",
        "    # define model and fit model\n",
        "    clf = MultinomialNB()\n",
        "    clf.fit(x_train, y_train.ravel())\n",
        "\n",
        "    # prediction and results\n",
        "    y_pred_train = clf.predict(x_train)\n",
        "    y_pred_test = clf.predict(x_test)\n",
        "    y_proba_train = clf.predict_proba(x_train)\n",
        "    y_proba_test = clf.predict_proba(x_test)\n",
        "\n",
        "    cm = metrics.confusion_matrix(y_test, y_pred_test)\n",
        "    fpr1, tpr1, _ = metrics.roc_curve(y_test, y_proba_test[:,1])\n",
        "    fpr0, tpr0, _ = metrics.roc_curve(y_test, y_proba_test[:,0])\n",
        "    acc_test = metrics.accuracy_score(y_test, y_pred_test)\n",
        "    acc_train = metrics.accuracy_score(y_train, y_pred_train)\n",
        "    rec = metrics.recall_score(y_test, y_pred_test)\n",
        "    pre = metrics.precision_score(y_test, y_pred_test)\n",
        "    f1 = metrics.f1_score(y_test, y_pred_test)\n",
        "\n",
        "    # append results\n",
        "    if is_add == 1:\n",
        "        FPR0.append(fpr0)\n",
        "        TPR0.append(tpr0)\n",
        "        FPR1.append(fpr1)\n",
        "        TPR1.append(tpr1)\n",
        "        ACC_test.append(acc_test)\n",
        "        ACC_train.append(acc_train)\n",
        "        Recall.append(rec)\n",
        "        Precision.append(pre)\n",
        "        F1.append(f1)\n",
        "\n",
        "    plot_results(FPR0, TPR0, FPR1, TPR1, ACC_test, ACC_train, Recall, Precision, F1)\n",
        "\n",
        "    # Evaluation model\n",
        "    print('-'*20 , 'Confusion Matrix', '-'*20)\n",
        "    print(cm)\n",
        "    plot_confusion_matrix2(cm, classes,\n",
        "                          title='Confusion matrix',\n",
        "                          cmap=plt.cm.Blues)\n",
        "    # or use plot_confusion_matrix from sklearn.metrics\n",
        "    print('-'*20 , 'Classification Report', '-'*20)\n",
        "    print(metrics.classification_report(y_test, y_pred_test, target_names=classes), '\\n')\n",
        "    print(f\"Jaccard Score: {metrics.jaccard_score(y_test, y_pred_test)}\", '\\n')\n",
        "\n",
        "    # print other result about predicted data\n",
        "    return clf, acc_test, acc_train"
      ],
      "metadata": {
        "execution": {
          "iopub.status.busy": "2022-10-08T22:04:16.842978Z",
          "iopub.execute_input": "2022-10-08T22:04:16.843448Z",
          "iopub.status.idle": "2022-10-08T22:04:16.882203Z",
          "shell.execute_reply.started": "2022-10-08T22:04:16.843392Z",
          "shell.execute_reply": "2022-10-08T22:04:16.880882Z"
        },
        "trusted": true,
        "id": "uH-mhuVQLUgP"
      },
      "execution_count": null,
      "outputs": []
    },
    {
      "cell_type": "code",
      "source": [
        "# Now create first model\n",
        "clf1, acc_test1, acc_train1 = modeling(x, y, 0.2, ['No Purchased=0', 'Purchased=1'])"
      ],
      "metadata": {
        "execution": {
          "iopub.status.busy": "2022-10-08T22:04:16.884082Z",
          "iopub.execute_input": "2022-10-08T22:04:16.884693Z",
          "iopub.status.idle": "2022-10-08T22:04:18.150922Z",
          "shell.execute_reply.started": "2022-10-08T22:04:16.884641Z",
          "shell.execute_reply": "2022-10-08T22:04:18.149744Z"
        },
        "trusted": true,
        "id": "bjuG9fdQLUgP"
      },
      "execution_count": null,
      "outputs": []
    },
    {
      "cell_type": "markdown",
      "source": [
        "Accuracy is 0.78 and that is not bad but we want to improve model, so let's countinue."
      ],
      "metadata": {
        "id": "itHojb2VLUgP"
      }
    },
    {
      "cell_type": "code",
      "source": [
        "# test test_size= 0.3\n",
        "clf2, acc_test2, acc_train2 = modeling(x, y, 0.3, ['No Purchased=0', 'Purchased=1'])"
      ],
      "metadata": {
        "execution": {
          "iopub.status.busy": "2022-10-08T22:04:54.86861Z",
          "iopub.execute_input": "2022-10-08T22:04:54.869329Z",
          "iopub.status.idle": "2022-10-08T22:04:56.004903Z",
          "shell.execute_reply.started": "2022-10-08T22:04:54.869268Z",
          "shell.execute_reply": "2022-10-08T22:04:56.003474Z"
        },
        "trusted": true,
        "id": "q-sa6aVMLUgP"
      },
      "execution_count": null,
      "outputs": []
    },
    {
      "cell_type": "markdown",
      "source": [
        "test_size = 0.3 did not improve the performance of the model."
      ],
      "metadata": {
        "id": "FwUqrmfdLUgP"
      }
    },
    {
      "cell_type": "code",
      "source": [
        "# test test_size= 0.15\n",
        "clf3, acc_test3, acc_train3 = modeling(x, y, 0.15, ['No Purchased=0', 'Purchased=1'])"
      ],
      "metadata": {
        "execution": {
          "iopub.status.busy": "2022-10-08T22:04:56.00735Z",
          "iopub.execute_input": "2022-10-08T22:04:56.007722Z",
          "iopub.status.idle": "2022-10-08T22:04:57.17662Z",
          "shell.execute_reply.started": "2022-10-08T22:04:56.00769Z",
          "shell.execute_reply": "2022-10-08T22:04:57.175374Z"
        },
        "trusted": true,
        "id": "GK1n0KXdLUgP"
      },
      "execution_count": null,
      "outputs": []
    },
    {
      "cell_type": "markdown",
      "source": [
        "test_size = 0.15 did not improve the performance of the model."
      ],
      "metadata": {
        "id": "Qlex1KFYLUgP"
      }
    },
    {
      "cell_type": "code",
      "source": [
        "# test test_size= 0.1\n",
        "clf3, acc_test3, acc_train3 = modeling(x, y, 0.1, ['No Purchased=0', 'Purchased=1'])"
      ],
      "metadata": {
        "execution": {
          "iopub.status.busy": "2022-10-08T22:04:59.208963Z",
          "iopub.execute_input": "2022-10-08T22:04:59.210111Z",
          "iopub.status.idle": "2022-10-08T22:05:00.339743Z",
          "shell.execute_reply.started": "2022-10-08T22:04:59.210061Z",
          "shell.execute_reply": "2022-10-08T22:05:00.338483Z"
        },
        "trusted": true,
        "id": "CsSks9dDLUgP"
      },
      "execution_count": null,
      "outputs": []
    },
    {
      "cell_type": "markdown",
      "source": [
        "test_size = 0.1 did not improve the performance of the model.\n",
        "So we delete 3 last results because they did not improve the performance of the model."
      ],
      "metadata": {
        "id": "g5mSo8CyLUgP"
      }
    },
    {
      "cell_type": "code",
      "source": [
        "# delete 3 last results\n",
        "del FPR1[1:]\n",
        "del TPR1[1:]\n",
        "del FPR0[1:]\n",
        "del TPR0[1:]\n",
        "del ACC_test[1:]\n",
        "del ACC_train[1:]\n",
        "del Recall[1:]\n",
        "del Precision[1:]\n",
        "del F1[1:]"
      ],
      "metadata": {
        "execution": {
          "iopub.status.busy": "2022-10-08T22:05:00.341772Z",
          "iopub.execute_input": "2022-10-08T22:05:00.342104Z",
          "iopub.status.idle": "2022-10-08T22:05:00.34794Z",
          "shell.execute_reply.started": "2022-10-08T22:05:00.342075Z",
          "shell.execute_reply": "2022-10-08T22:05:00.346522Z"
        },
        "trusted": true,
        "id": "y9qVPr9ELUgP"
      },
      "execution_count": null,
      "outputs": []
    },
    {
      "cell_type": "markdown",
      "source": [
        "Ok. So test_size=0.2 is better than other and edit this hyperparameter is not change much the performance of model.\n",
        "Now we try to improve model by Cross Validation with `Perform_cross_val` function."
      ],
      "metadata": {
        "id": "R25WIgjfLUgQ"
      }
    },
    {
      "cell_type": "code",
      "source": [
        "Perform_cross_val(clf1, 10, x, y, scoring='accuracy')"
      ],
      "metadata": {
        "execution": {
          "iopub.status.busy": "2022-10-08T22:05:00.349492Z",
          "iopub.execute_input": "2022-10-08T22:05:00.349851Z",
          "iopub.status.idle": "2022-10-08T22:05:00.378831Z",
          "shell.execute_reply.started": "2022-10-08T22:05:00.34982Z",
          "shell.execute_reply": "2022-10-08T22:05:00.377629Z"
        },
        "trusted": true,
        "id": "B9vPUa5SLUgQ"
      },
      "execution_count": null,
      "outputs": []
    },
    {
      "cell_type": "markdown",
      "source": [
        "Folds 6 and 10 are more different from the average than other folds. Therefore, maybe by removing them, the model will be better:"
      ],
      "metadata": {
        "id": "kf6l67_0LUgQ"
      }
    },
    {
      "cell_type": "code",
      "source": [
        "# first find index of datapoint in fold 1 and 3 by following func:\n",
        "find_fold_index(10, x)"
      ],
      "metadata": {
        "execution": {
          "iopub.status.busy": "2022-10-08T22:05:00.380331Z",
          "iopub.execute_input": "2022-10-08T22:05:00.380682Z",
          "iopub.status.idle": "2022-10-08T22:05:00.387389Z",
          "shell.execute_reply.started": "2022-10-08T22:05:00.380651Z",
          "shell.execute_reply": "2022-10-08T22:05:00.386396Z"
        },
        "trusted": true,
        "id": "7ReBeSwzLUgQ"
      },
      "execution_count": null,
      "outputs": []
    },
    {
      "cell_type": "markdown",
      "source": [
        "Now we delete index `[200-239] , [360-399]`"
      ],
      "metadata": {
        "id": "7gf2LvUoLUgQ"
      }
    },
    {
      "cell_type": "code",
      "source": [
        "# delete above index from df2\n",
        "df3 = df2.drop(df2.index[np.r_[200:239+1, 360:399+1]], axis=0)\n",
        "print(f'df2:{df2.shape}')\n",
        "print(f'df3:{df3.shape}')"
      ],
      "metadata": {
        "execution": {
          "iopub.status.busy": "2022-10-08T22:05:07.781598Z",
          "iopub.execute_input": "2022-10-08T22:05:07.781998Z",
          "iopub.status.idle": "2022-10-08T22:05:07.790346Z",
          "shell.execute_reply.started": "2022-10-08T22:05:07.781967Z",
          "shell.execute_reply": "2022-10-08T22:05:07.78919Z"
        },
        "trusted": true,
        "id": "NjZ57nVgLUgQ"
      },
      "execution_count": null,
      "outputs": []
    },
    {
      "cell_type": "code",
      "source": [
        "# define new x and y\n",
        "x2 = np.asanyarray(df3.drop('Purchased', axis=1))\n",
        "y2 = df3.Purchased.values.reshape(-1,1)"
      ],
      "metadata": {
        "execution": {
          "iopub.status.busy": "2022-10-08T22:05:07.792701Z",
          "iopub.execute_input": "2022-10-08T22:05:07.793186Z",
          "iopub.status.idle": "2022-10-08T22:05:07.803004Z",
          "shell.execute_reply.started": "2022-10-08T22:05:07.793144Z",
          "shell.execute_reply": "2022-10-08T22:05:07.80193Z"
        },
        "trusted": true,
        "id": "UrlWFhlyLUgQ"
      },
      "execution_count": null,
      "outputs": []
    },
    {
      "cell_type": "code",
      "source": [
        "clf2, acc_test2, acc_train2 = modeling(x2, y2, 0.2, classes=['No Purchased=0', 'Purchased=1'])"
      ],
      "metadata": {
        "execution": {
          "iopub.status.busy": "2022-10-08T22:05:07.804526Z",
          "iopub.execute_input": "2022-10-08T22:05:07.804955Z",
          "iopub.status.idle": "2022-10-08T22:05:09.10562Z",
          "shell.execute_reply.started": "2022-10-08T22:05:07.804923Z",
          "shell.execute_reply": "2022-10-08T22:05:09.104592Z"
        },
        "trusted": true,
        "id": "LLpknVEfLUgQ"
      },
      "execution_count": null,
      "outputs": []
    },
    {
      "cell_type": "markdown",
      "source": [
        "Now the performance of the model has improved and reached an accuracy of 0.81. As shown in the confusion matrix and the classification report, due to the lack of data in class 1, the accuracy of this class is low, and the 12 people who decided to purchase were wrongly predicted as class zero. However, the accuracy achieved is good."
      ],
      "metadata": {
        "id": "D3WLdVCpLUgQ"
      }
    },
    {
      "cell_type": "markdown",
      "source": [
        "<div style=\"color:orange;\n",
        "           display:fill;\n",
        "           border-radius:5px;\n",
        "           font-family:Verdana;\n",
        "           letter-spacing:0.5px;\n",
        "           background-color:black;\n",
        "            text-align:center;\n",
        "            padding: 1px;\">\n",
        "\n",
        "<h1 id=\"head7\">\n",
        "    <p style=\"padding: 6px;\n",
        "              font-size:100%;\n",
        "              color:orange;\n",
        "              text-align:center;\">\n",
        "              7. Visualization Final Model\n",
        "    <a class=\"anchor-link\" href=\"https://www.kaggle.com/arezalo/customer-behaviour-prediction-naive-bayes#head7\">¶</a></p>\n",
        "</h1>\n",
        "</div>"
      ],
      "metadata": {
        "id": "6p9_Zn6gLUgQ"
      }
    },
    {
      "cell_type": "code",
      "source": [
        "%matplotlib inline\n",
        "x_train, x_test, y_train, y_test = train_test_split(x2, y2, test_size=0.2, random_state=0)\n",
        "x_test = np.concatenate((x_test, y_test), axis=1)\n",
        "x_test = pd.DataFrame(x_test, columns=['Gender', 'Age', 'EstimatedSalary', 'Purchased'])\n",
        "\n",
        "fig = px.scatter_3d(\n",
        "    data_frame= x_test,\n",
        "    x=x_test.Age,\n",
        "    y=x_test.EstimatedSalary,\n",
        "    z=x_test.Purchased,\n",
        "    color=clf2.predict(x_test.drop('Purchased', axis=1)).astype(str),\n",
        "    color_discrete_sequence={0:'red', 1:'green'},\n",
        "    template='ggplot2',\n",
        "    opacity=0.6,\n",
        "    height=700,\n",
        "    title=f'Visualization Performance of clf2 in Predicting')\n",
        "\n",
        "pio.show(fig)"
      ],
      "metadata": {
        "execution": {
          "iopub.status.busy": "2022-10-08T22:05:25.644862Z",
          "iopub.execute_input": "2022-10-08T22:05:25.645292Z",
          "iopub.status.idle": "2022-10-08T22:05:25.72899Z",
          "shell.execute_reply.started": "2022-10-08T22:05:25.645255Z",
          "shell.execute_reply": "2022-10-08T22:05:25.727694Z"
        },
        "trusted": true,
        "id": "DLYUaVhqLUgQ"
      },
      "execution_count": null,
      "outputs": []
    },
    {
      "cell_type": "code",
      "source": [
        "clf2.predict(x_test.drop('Purchased', axis=1))"
      ],
      "metadata": {
        "execution": {
          "iopub.status.busy": "2022-10-08T22:05:25.731265Z",
          "iopub.execute_input": "2022-10-08T22:05:25.731643Z",
          "iopub.status.idle": "2022-10-08T22:05:25.742638Z",
          "shell.execute_reply.started": "2022-10-08T22:05:25.731608Z",
          "shell.execute_reply": "2022-10-08T22:05:25.74148Z"
        },
        "trusted": true,
        "id": "ntV036NhLUgQ"
      },
      "execution_count": null,
      "outputs": []
    },
    {
      "cell_type": "code",
      "source": [
        "# fit final model on all of data (train + test)\n",
        "final_model = MultinomialNB()\n",
        "final_model.fit(x2, y2)\n",
        "\n",
        "# new sample data\n",
        "new_sample = pd.DataFrame({'Gender': [1], 'Age': [18], 'EstimatedSalary': [70000]})\n",
        "print(f\"Gender: {new_sample['Gender'].values[0]}\\n\"\n",
        "      f\"Age: {new_sample['Age'].values[0]}\\n\"\n",
        "      f\"EstimatedSalary: {new_sample['EstimatedSalary'].values[0]}\")\n",
        "\n",
        "# Satandardize new_sample by use scaler\n",
        "new_sample['EstimatedSalary'] = scaler.transform(new_sample[['EstimatedSalary']])\n",
        "ns = np.asanyarray(new_sample)\n",
        "\n",
        "# predict new sample data\n",
        "result = final_model.predict(ns)\n",
        "print('='*38)\n",
        "print(f\"class {result}\")\n"
      ],
      "metadata": {
        "execution": {
          "iopub.status.busy": "2022-10-08T22:05:45.738128Z",
          "iopub.execute_input": "2022-10-08T22:05:45.73859Z",
          "iopub.status.idle": "2022-10-08T22:05:45.754945Z",
          "shell.execute_reply.started": "2022-10-08T22:05:45.738551Z",
          "shell.execute_reply": "2022-10-08T22:05:45.753473Z"
        },
        "trusted": true,
        "id": "rctAIsLxLUgQ"
      },
      "execution_count": null,
      "outputs": []
    }
  ]
}